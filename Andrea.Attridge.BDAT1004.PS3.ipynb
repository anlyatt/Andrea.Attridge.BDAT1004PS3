{
 "cells": [
  {
   "cell_type": "markdown",
   "id": "c61340ce",
   "metadata": {},
   "source": [
    "BDAT1004 - Data Programming - W24, Tuesday Section - Problem Set 3 - Andrea Attridge"
   ]
  },
  {
   "cell_type": "markdown",
   "id": "b6850c9a",
   "metadata": {},
   "source": [
    "Question 1: Occupations"
   ]
  },
  {
   "cell_type": "code",
   "execution_count": 11,
   "id": "6812893d",
   "metadata": {},
   "outputs": [
    {
     "data": {
      "text/html": [
       "<div>\n",
       "<style scoped>\n",
       "    .dataframe tbody tr th:only-of-type {\n",
       "        vertical-align: middle;\n",
       "    }\n",
       "\n",
       "    .dataframe tbody tr th {\n",
       "        vertical-align: top;\n",
       "    }\n",
       "\n",
       "    .dataframe thead th {\n",
       "        text-align: right;\n",
       "    }\n",
       "</style>\n",
       "<table border=\"1\" class=\"dataframe\">\n",
       "  <thead>\n",
       "    <tr style=\"text-align: right;\">\n",
       "      <th></th>\n",
       "      <th>user_id</th>\n",
       "      <th>age</th>\n",
       "      <th>gender</th>\n",
       "      <th>occupation</th>\n",
       "      <th>zip_code</th>\n",
       "    </tr>\n",
       "  </thead>\n",
       "  <tbody>\n",
       "    <tr>\n",
       "      <th>0</th>\n",
       "      <td>1</td>\n",
       "      <td>24</td>\n",
       "      <td>M</td>\n",
       "      <td>technician</td>\n",
       "      <td>85711</td>\n",
       "    </tr>\n",
       "    <tr>\n",
       "      <th>1</th>\n",
       "      <td>2</td>\n",
       "      <td>53</td>\n",
       "      <td>F</td>\n",
       "      <td>other</td>\n",
       "      <td>94043</td>\n",
       "    </tr>\n",
       "    <tr>\n",
       "      <th>2</th>\n",
       "      <td>3</td>\n",
       "      <td>23</td>\n",
       "      <td>M</td>\n",
       "      <td>writer</td>\n",
       "      <td>32067</td>\n",
       "    </tr>\n",
       "    <tr>\n",
       "      <th>3</th>\n",
       "      <td>4</td>\n",
       "      <td>24</td>\n",
       "      <td>M</td>\n",
       "      <td>technician</td>\n",
       "      <td>43537</td>\n",
       "    </tr>\n",
       "    <tr>\n",
       "      <th>4</th>\n",
       "      <td>5</td>\n",
       "      <td>33</td>\n",
       "      <td>F</td>\n",
       "      <td>other</td>\n",
       "      <td>15213</td>\n",
       "    </tr>\n",
       "  </tbody>\n",
       "</table>\n",
       "</div>"
      ],
      "text/plain": [
       "   user_id  age gender  occupation zip_code\n",
       "0        1   24      M  technician    85711\n",
       "1        2   53      F       other    94043\n",
       "2        3   23      M      writer    32067\n",
       "3        4   24      M  technician    43537\n",
       "4        5   33      F       other    15213"
      ]
     },
     "execution_count": 11,
     "metadata": {},
     "output_type": "execute_result"
    }
   ],
   "source": [
    "#import necessary libraries\n",
    "import numpy as np\n",
    "import pandas as pd\n",
    "\n",
    "#import dataset and assign to users\n",
    "users = pd.read_csv(r'https://raw.githubusercontent.com/justmarkham/DAT8/master/data/u.user', sep='|')\n",
    "\n",
    "#show the beinginning of the dataset\n",
    "users.head()"
   ]
  },
  {
   "cell_type": "code",
   "execution_count": 16,
   "id": "bdc6688c",
   "metadata": {},
   "outputs": [
    {
     "name": "stdout",
     "output_type": "stream",
     "text": [
      "occupation\n",
      "administrator    38.746835\n",
      "artist           31.392857\n",
      "doctor           43.571429\n",
      "educator         42.010526\n",
      "engineer         36.388060\n",
      "entertainment    29.222222\n",
      "executive        38.718750\n",
      "healthcare       41.562500\n",
      "homemaker        32.571429\n",
      "lawyer           36.750000\n",
      "librarian        40.000000\n",
      "marketing        37.615385\n",
      "none             26.555556\n",
      "other            34.523810\n",
      "programmer       33.121212\n",
      "retired          63.071429\n",
      "salesman         35.666667\n",
      "scientist        35.548387\n",
      "student          22.081633\n",
      "technician       33.148148\n",
      "writer           36.311111\n",
      "Name: age, dtype: float64\n"
     ]
    }
   ],
   "source": [
    "#determine mean age per occupation\n",
    "mean_age_per_occupation = users.groupby('occupation')['age'].mean()\n",
    "print(mean_age_per_occupation)"
   ]
  },
  {
   "cell_type": "code",
   "execution_count": 19,
   "id": "c4628d2a",
   "metadata": {},
   "outputs": [
    {
     "name": "stdout",
     "output_type": "stream",
     "text": [
      "occupation\n",
      "engineer         0.970149\n",
      "technician       0.962963\n",
      "retired          0.928571\n",
      "programmer       0.909091\n",
      "executive        0.906250\n",
      "scientist        0.903226\n",
      "entertainment    0.888889\n",
      "lawyer           0.833333\n",
      "salesman         0.750000\n",
      "educator         0.726316\n",
      "student          0.693878\n",
      "other            0.657143\n",
      "marketing        0.615385\n",
      "writer           0.577778\n",
      "none             0.555556\n",
      "administrator    0.544304\n",
      "artist           0.535714\n",
      "librarian        0.431373\n",
      "healthcare       0.312500\n",
      "homemaker        0.142857\n",
      "doctor                NaN\n",
      "Name: Male ratio, dtype: float64\n"
     ]
    }
   ],
   "source": [
    "#determine the male ratio per occupation and sort it from most to least\n",
    "\n",
    "#sort by occupation and gender\n",
    "occupation_by_gender = users.groupby(['occupation', 'gender'])\n",
    "\n",
    "#count people per occupation\n",
    "count = occupation_by_gender.size().unstack()\n",
    "\n",
    "#determine male ratio\n",
    "count['Male ratio'] = count['M']/(count['M'] + count ['F'])\n",
    "\n",
    "#sort male ratio\n",
    "male_ratio_per_occupation = count['Male ratio'].sort_values(ascending=False)\n",
    "\n",
    "print(male_ratio_per_occupation)"
   ]
  },
  {
   "cell_type": "code",
   "execution_count": 20,
   "id": "405bb723",
   "metadata": {},
   "outputs": [
    {
     "name": "stdout",
     "output_type": "stream",
     "text": [
      "               min  max\n",
      "occupation             \n",
      "administrator   21   70\n",
      "artist          19   48\n",
      "doctor          28   64\n",
      "educator        23   63\n",
      "engineer        22   70\n",
      "entertainment   15   50\n",
      "executive       22   69\n",
      "healthcare      22   62\n",
      "homemaker       20   50\n",
      "lawyer          21   53\n",
      "librarian       23   69\n",
      "marketing       24   55\n",
      "none            11   55\n",
      "other           13   64\n",
      "programmer      20   63\n",
      "retired         51   73\n",
      "salesman        18   66\n",
      "scientist       23   55\n",
      "student          7   42\n",
      "technician      21   55\n",
      "writer          18   60\n"
     ]
    }
   ],
   "source": [
    "#for each occupation, calculate the minimum and maximum ages\n",
    "range_ages_per_occupation = users.groupby('occupation')['age'].agg(['min', 'max'])\n",
    "\n",
    "print(range_ages_per_occupation)"
   ]
  },
  {
   "cell_type": "code",
   "execution_count": 21,
   "id": "cf417bf5",
   "metadata": {},
   "outputs": [
    {
     "name": "stdout",
     "output_type": "stream",
     "text": [
      "occupation     gender\n",
      "administrator  F         40.638889\n",
      "               M         37.162791\n",
      "artist         F         30.307692\n",
      "               M         32.333333\n",
      "doctor         M         43.571429\n",
      "educator       F         39.115385\n",
      "               M         43.101449\n",
      "engineer       F         29.500000\n",
      "               M         36.600000\n",
      "entertainment  F         31.000000\n",
      "               M         29.000000\n",
      "executive      F         44.000000\n",
      "               M         38.172414\n",
      "healthcare     F         39.818182\n",
      "               M         45.400000\n",
      "homemaker      F         34.166667\n",
      "               M         23.000000\n",
      "lawyer         F         39.500000\n",
      "               M         36.200000\n",
      "librarian      F         40.000000\n",
      "               M         40.000000\n",
      "marketing      F         37.200000\n",
      "               M         37.875000\n",
      "none           F         36.500000\n",
      "               M         18.600000\n",
      "other          F         35.472222\n",
      "               M         34.028986\n",
      "programmer     F         32.166667\n",
      "               M         33.216667\n",
      "retired        F         70.000000\n",
      "               M         62.538462\n",
      "salesman       F         27.000000\n",
      "               M         38.555556\n",
      "scientist      F         28.333333\n",
      "               M         36.321429\n",
      "student        F         20.750000\n",
      "               M         22.669118\n",
      "technician     F         38.000000\n",
      "               M         32.961538\n",
      "writer         F         37.631579\n",
      "               M         35.346154\n",
      "Name: age, dtype: float64\n"
     ]
    }
   ],
   "source": [
    "#for each combination of occupation and sex, calculate the mean age\n",
    "\n",
    "mean_age_per_occupation_gender = users.groupby(['occupation', 'gender'])['age'].mean()\n",
    "\n",
    "print(mean_age_per_occupation_gender)"
   ]
  },
  {
   "cell_type": "code",
   "execution_count": 23,
   "id": "98c0ad81",
   "metadata": {},
   "outputs": [
    {
     "name": "stdout",
     "output_type": "stream",
     "text": [
      "gender                 F           M\n",
      "occupation                          \n",
      "administrator  45.569620   54.430380\n",
      "artist         46.428571   53.571429\n",
      "doctor               NaN  100.000000\n",
      "educator       27.368421   72.631579\n",
      "engineer        2.985075   97.014925\n",
      "entertainment  11.111111   88.888889\n",
      "executive       9.375000   90.625000\n",
      "healthcare     68.750000   31.250000\n",
      "homemaker      85.714286   14.285714\n",
      "lawyer         16.666667   83.333333\n",
      "librarian      56.862745   43.137255\n",
      "marketing      38.461538   61.538462\n",
      "none           44.444444   55.555556\n",
      "other          34.285714   65.714286\n",
      "programmer      9.090909   90.909091\n",
      "retired         7.142857   92.857143\n",
      "salesman       25.000000   75.000000\n",
      "scientist       9.677419   90.322581\n",
      "student        30.612245   69.387755\n",
      "technician      3.703704   96.296296\n",
      "writer         42.222222   57.777778\n"
     ]
    }
   ],
   "source": [
    "#for each occupation, present the percentage of men and women\n",
    "occupation_grouped = users.groupby('occupation')\n",
    "\n",
    "#count people per occupation\n",
    "gender_count = occupation_grouped['gender'].value_counts().unstack()\n",
    "total_counts = gender_count.sum(axis=1)\n",
    "\n",
    "#calculate percentage of each gender by occupation\n",
    "percentage_gender_per_occupation = gender_count.div(total_counts, axis=0) * 100\n",
    "\n",
    "print(percentage_gender_per_occupation)"
   ]
  },
  {
   "cell_type": "markdown",
   "id": "7d2b5b12",
   "metadata": {},
   "source": [
    "Question 2: Euro Teams"
   ]
  },
  {
   "cell_type": "code",
   "execution_count": 24,
   "id": "f4b99d9b",
   "metadata": {},
   "outputs": [
    {
     "data": {
      "text/html": [
       "<div>\n",
       "<style scoped>\n",
       "    .dataframe tbody tr th:only-of-type {\n",
       "        vertical-align: middle;\n",
       "    }\n",
       "\n",
       "    .dataframe tbody tr th {\n",
       "        vertical-align: top;\n",
       "    }\n",
       "\n",
       "    .dataframe thead th {\n",
       "        text-align: right;\n",
       "    }\n",
       "</style>\n",
       "<table border=\"1\" class=\"dataframe\">\n",
       "  <thead>\n",
       "    <tr style=\"text-align: right;\">\n",
       "      <th></th>\n",
       "      <th>Team</th>\n",
       "      <th>Goals</th>\n",
       "      <th>Shots on target</th>\n",
       "      <th>Shots off target</th>\n",
       "      <th>Shooting Accuracy</th>\n",
       "      <th>% Goals-to-shots</th>\n",
       "      <th>Total shots (inc. Blocked)</th>\n",
       "      <th>Hit Woodwork</th>\n",
       "      <th>Penalty goals</th>\n",
       "      <th>Penalties not scored</th>\n",
       "      <th>...</th>\n",
       "      <th>Saves made</th>\n",
       "      <th>Saves-to-shots ratio</th>\n",
       "      <th>Fouls Won</th>\n",
       "      <th>Fouls Conceded</th>\n",
       "      <th>Offsides</th>\n",
       "      <th>Yellow Cards</th>\n",
       "      <th>Red Cards</th>\n",
       "      <th>Subs on</th>\n",
       "      <th>Subs off</th>\n",
       "      <th>Players Used</th>\n",
       "    </tr>\n",
       "  </thead>\n",
       "  <tbody>\n",
       "    <tr>\n",
       "      <th>0</th>\n",
       "      <td>Croatia</td>\n",
       "      <td>4</td>\n",
       "      <td>13</td>\n",
       "      <td>12</td>\n",
       "      <td>51.9%</td>\n",
       "      <td>16.0%</td>\n",
       "      <td>32</td>\n",
       "      <td>0</td>\n",
       "      <td>0</td>\n",
       "      <td>0</td>\n",
       "      <td>...</td>\n",
       "      <td>13</td>\n",
       "      <td>81.3%</td>\n",
       "      <td>41</td>\n",
       "      <td>62</td>\n",
       "      <td>2</td>\n",
       "      <td>9</td>\n",
       "      <td>0</td>\n",
       "      <td>9</td>\n",
       "      <td>9</td>\n",
       "      <td>16</td>\n",
       "    </tr>\n",
       "    <tr>\n",
       "      <th>1</th>\n",
       "      <td>Czech Republic</td>\n",
       "      <td>4</td>\n",
       "      <td>13</td>\n",
       "      <td>18</td>\n",
       "      <td>41.9%</td>\n",
       "      <td>12.9%</td>\n",
       "      <td>39</td>\n",
       "      <td>0</td>\n",
       "      <td>0</td>\n",
       "      <td>0</td>\n",
       "      <td>...</td>\n",
       "      <td>9</td>\n",
       "      <td>60.1%</td>\n",
       "      <td>53</td>\n",
       "      <td>73</td>\n",
       "      <td>8</td>\n",
       "      <td>7</td>\n",
       "      <td>0</td>\n",
       "      <td>11</td>\n",
       "      <td>11</td>\n",
       "      <td>19</td>\n",
       "    </tr>\n",
       "    <tr>\n",
       "      <th>2</th>\n",
       "      <td>Denmark</td>\n",
       "      <td>4</td>\n",
       "      <td>10</td>\n",
       "      <td>10</td>\n",
       "      <td>50.0%</td>\n",
       "      <td>20.0%</td>\n",
       "      <td>27</td>\n",
       "      <td>1</td>\n",
       "      <td>0</td>\n",
       "      <td>0</td>\n",
       "      <td>...</td>\n",
       "      <td>10</td>\n",
       "      <td>66.7%</td>\n",
       "      <td>25</td>\n",
       "      <td>38</td>\n",
       "      <td>8</td>\n",
       "      <td>4</td>\n",
       "      <td>0</td>\n",
       "      <td>7</td>\n",
       "      <td>7</td>\n",
       "      <td>15</td>\n",
       "    </tr>\n",
       "    <tr>\n",
       "      <th>3</th>\n",
       "      <td>England</td>\n",
       "      <td>5</td>\n",
       "      <td>11</td>\n",
       "      <td>18</td>\n",
       "      <td>50.0%</td>\n",
       "      <td>17.2%</td>\n",
       "      <td>40</td>\n",
       "      <td>0</td>\n",
       "      <td>0</td>\n",
       "      <td>0</td>\n",
       "      <td>...</td>\n",
       "      <td>22</td>\n",
       "      <td>88.1%</td>\n",
       "      <td>43</td>\n",
       "      <td>45</td>\n",
       "      <td>6</td>\n",
       "      <td>5</td>\n",
       "      <td>0</td>\n",
       "      <td>11</td>\n",
       "      <td>11</td>\n",
       "      <td>16</td>\n",
       "    </tr>\n",
       "    <tr>\n",
       "      <th>4</th>\n",
       "      <td>France</td>\n",
       "      <td>3</td>\n",
       "      <td>22</td>\n",
       "      <td>24</td>\n",
       "      <td>37.9%</td>\n",
       "      <td>6.5%</td>\n",
       "      <td>65</td>\n",
       "      <td>1</td>\n",
       "      <td>0</td>\n",
       "      <td>0</td>\n",
       "      <td>...</td>\n",
       "      <td>6</td>\n",
       "      <td>54.6%</td>\n",
       "      <td>36</td>\n",
       "      <td>51</td>\n",
       "      <td>5</td>\n",
       "      <td>6</td>\n",
       "      <td>0</td>\n",
       "      <td>11</td>\n",
       "      <td>11</td>\n",
       "      <td>19</td>\n",
       "    </tr>\n",
       "  </tbody>\n",
       "</table>\n",
       "<p>5 rows × 35 columns</p>\n",
       "</div>"
      ],
      "text/plain": [
       "             Team  Goals  Shots on target  Shots off target Shooting Accuracy  \\\n",
       "0         Croatia      4               13                12             51.9%   \n",
       "1  Czech Republic      4               13                18             41.9%   \n",
       "2         Denmark      4               10                10             50.0%   \n",
       "3         England      5               11                18             50.0%   \n",
       "4          France      3               22                24             37.9%   \n",
       "\n",
       "  % Goals-to-shots  Total shots (inc. Blocked)  Hit Woodwork  Penalty goals  \\\n",
       "0            16.0%                          32             0              0   \n",
       "1            12.9%                          39             0              0   \n",
       "2            20.0%                          27             1              0   \n",
       "3            17.2%                          40             0              0   \n",
       "4             6.5%                          65             1              0   \n",
       "\n",
       "   Penalties not scored  ...  Saves made  Saves-to-shots ratio  Fouls Won  \\\n",
       "0                     0  ...          13                 81.3%         41   \n",
       "1                     0  ...           9                 60.1%         53   \n",
       "2                     0  ...          10                 66.7%         25   \n",
       "3                     0  ...          22                 88.1%         43   \n",
       "4                     0  ...           6                 54.6%         36   \n",
       "\n",
       "  Fouls Conceded  Offsides  Yellow Cards  Red Cards  Subs on  Subs off  \\\n",
       "0             62         2             9          0        9         9   \n",
       "1             73         8             7          0       11        11   \n",
       "2             38         8             4          0        7         7   \n",
       "3             45         6             5          0       11        11   \n",
       "4             51         5             6          0       11        11   \n",
       "\n",
       "   Players Used  \n",
       "0            16  \n",
       "1            19  \n",
       "2            15  \n",
       "3            16  \n",
       "4            19  \n",
       "\n",
       "[5 rows x 35 columns]"
      ]
     },
     "execution_count": 24,
     "metadata": {},
     "output_type": "execute_result"
    }
   ],
   "source": [
    "#import necessary libraries\n",
    "import numpy as np\n",
    "import pandas as pd\n",
    "\n",
    "#import dataset and assign to users\n",
    "euro12 = pd.read_csv(r'https://raw.githubusercontent.com/guipsamora/pandas_exercises/master/02_Filtering_%26_Sorting/Euro12/Euro_2012_stats_TEAM.csv', sep=',')\n",
    "\n",
    "#show the beinginning of the dataset\n",
    "euro12.head()"
   ]
  },
  {
   "cell_type": "code",
   "execution_count": 25,
   "id": "81eeb3e2",
   "metadata": {},
   "outputs": [
    {
     "name": "stdout",
     "output_type": "stream",
     "text": [
      "0      4\n",
      "1      4\n",
      "2      4\n",
      "3      5\n",
      "4      3\n",
      "5     10\n",
      "6      5\n",
      "7      6\n",
      "8      2\n",
      "9      2\n",
      "10     6\n",
      "11     1\n",
      "12     5\n",
      "13    12\n",
      "14     5\n",
      "15     2\n",
      "Name: Goals, dtype: int64\n"
     ]
    }
   ],
   "source": [
    "#select only the goals column\n",
    "goals_column = euro12['Goals']\n",
    "\n",
    "print(goals_column)"
   ]
  },
  {
   "cell_type": "code",
   "execution_count": 26,
   "id": "41073fd7",
   "metadata": {},
   "outputs": [
    {
     "name": "stdout",
     "output_type": "stream",
     "text": [
      "The number of teams that participated in Euro2012: 16\n"
     ]
    }
   ],
   "source": [
    "#determine number of teams that participated in the Euro2012\n",
    "num_teams = euro12['Team'].nunique()\n",
    "\n",
    "print(\"The number of teams that participated in Euro2012:\", num_teams)"
   ]
  },
  {
   "cell_type": "code",
   "execution_count": null,
   "id": "ed32a457",
   "metadata": {},
   "outputs": [],
   "source": [
    "#what is the number of columns in the data set?\n",
    "\n",
    "The dataset has 35 columns (refer to Out [24] when dataset was loaded)"
   ]
  },
  {
   "cell_type": "code",
   "execution_count": 27,
   "id": "c23a84d4",
   "metadata": {},
   "outputs": [
    {
     "name": "stdout",
     "output_type": "stream",
     "text": [
      "                   Team  Yellow Cards  Red Cards\n",
      "0               Croatia             9          0\n",
      "1        Czech Republic             7          0\n",
      "2               Denmark             4          0\n",
      "3               England             5          0\n",
      "4                France             6          0\n",
      "5               Germany             4          0\n",
      "6                Greece             9          1\n",
      "7                 Italy            16          0\n",
      "8           Netherlands             5          0\n",
      "9                Poland             7          1\n",
      "10             Portugal            12          0\n",
      "11  Republic of Ireland             6          1\n",
      "12               Russia             6          0\n",
      "13                Spain            11          0\n",
      "14               Sweden             7          0\n",
      "15              Ukraine             5          0\n"
     ]
    }
   ],
   "source": [
    "#view only Team, Yellow Cards, Red cards and assign to a dataframe called discipline\n",
    "discipline = euro12[['Team', 'Yellow Cards', 'Red Cards']]\n",
    "\n",
    "print(discipline)"
   ]
  },
  {
   "cell_type": "code",
   "execution_count": 28,
   "id": "f3e40908",
   "metadata": {},
   "outputs": [
    {
     "name": "stdout",
     "output_type": "stream",
     "text": [
      "                   Team  Yellow Cards  Red Cards\n",
      "6                Greece             9          1\n",
      "9                Poland             7          1\n",
      "11  Republic of Ireland             6          1\n",
      "7                 Italy            16          0\n",
      "10             Portugal            12          0\n",
      "13                Spain            11          0\n",
      "0               Croatia             9          0\n",
      "1        Czech Republic             7          0\n",
      "14               Sweden             7          0\n",
      "4                France             6          0\n",
      "12               Russia             6          0\n",
      "3               England             5          0\n",
      "8           Netherlands             5          0\n",
      "15              Ukraine             5          0\n",
      "2               Denmark             4          0\n",
      "5               Germany             4          0\n"
     ]
    }
   ],
   "source": [
    "#sort by Red cards, then by Yellow Cards\n",
    "discipline_sorted = discipline.sort_values(by=['Red Cards', 'Yellow Cards'], ascending = False)\n",
    "\n",
    "print(discipline_sorted)"
   ]
  },
  {
   "cell_type": "code",
   "execution_count": 29,
   "id": "ceebf649",
   "metadata": {},
   "outputs": [
    {
     "name": "stdout",
     "output_type": "stream",
     "text": [
      "Team\n",
      "Croatia                 9.0\n",
      "Czech Republic          7.0\n",
      "Denmark                 4.0\n",
      "England                 5.0\n",
      "France                  6.0\n",
      "Germany                 4.0\n",
      "Greece                  9.0\n",
      "Italy                  16.0\n",
      "Netherlands             5.0\n",
      "Poland                  7.0\n",
      "Portugal               12.0\n",
      "Republic of Ireland     6.0\n",
      "Russia                  6.0\n",
      "Spain                  11.0\n",
      "Sweden                  7.0\n",
      "Ukraine                 5.0\n",
      "Name: Yellow Cards, dtype: float64\n"
     ]
    }
   ],
   "source": [
    "#calculate the mean Yellow cards per team\n",
    "mean_yellow_cards_per_team = discipline.groupby('Team')['Yellow Cards'].mean()\n",
    "\n",
    "print(mean_yellow_cards_per_team)"
   ]
  },
  {
   "cell_type": "code",
   "execution_count": 33,
   "id": "3eb9f9e2",
   "metadata": {},
   "outputs": [
    {
     "name": "stdout",
     "output_type": "stream",
     "text": [
      "       Team  Goals  Shots on target  Shots off target Shooting Accuracy  \\\n",
      "5   Germany     10               32                32             47.8%   \n",
      "13    Spain     12               42                33             55.9%   \n",
      "\n",
      "   % Goals-to-shots  Total shots (inc. Blocked)  Hit Woodwork  Penalty goals  \\\n",
      "5             15.6%                          80             2              1   \n",
      "13            16.0%                         100             0              1   \n",
      "\n",
      "    Penalties not scored  ...  Saves made  Saves-to-shots ratio  Fouls Won  \\\n",
      "5                      0  ...          10                 62.6%         63   \n",
      "13                     0  ...          15                 93.8%        102   \n",
      "\n",
      "   Fouls Conceded  Offsides  Yellow Cards  Red Cards  Subs on  Subs off  \\\n",
      "5              49        12             4          0       15        15   \n",
      "13             83        19            11          0       17        17   \n",
      "\n",
      "    Players Used  \n",
      "5             17  \n",
      "13            18  \n",
      "\n",
      "[2 rows x 35 columns]\n"
     ]
    }
   ],
   "source": [
    "#filter teams that scored more than six goals\n",
    "more_than_six_goals = euro12[euro12['Goals'] > 6]\n",
    "\n",
    "print(more_than_six_goals)"
   ]
  },
  {
   "cell_type": "code",
   "execution_count": 31,
   "id": "e326bf78",
   "metadata": {},
   "outputs": [
    {
     "name": "stdout",
     "output_type": "stream",
     "text": [
      "      Team  Goals  Shots on target  Shots off target Shooting Accuracy  \\\n",
      "5  Germany     10               32                32             47.8%   \n",
      "6   Greece      5                8                18             30.7%   \n",
      "\n",
      "  % Goals-to-shots  Total shots (inc. Blocked)  Hit Woodwork  Penalty goals  \\\n",
      "5            15.6%                          80             2              1   \n",
      "6            19.2%                          32             1              1   \n",
      "\n",
      "   Penalties not scored  ...  Saves made  Saves-to-shots ratio  Fouls Won  \\\n",
      "5                     0  ...          10                 62.6%         63   \n",
      "6                     1  ...          13                 65.1%         67   \n",
      "\n",
      "  Fouls Conceded  Offsides  Yellow Cards  Red Cards  Subs on  Subs off  \\\n",
      "5             49        12             4          0       15        15   \n",
      "6             48        12             9          1       12        12   \n",
      "\n",
      "   Players Used  \n",
      "5            17  \n",
      "6            20  \n",
      "\n",
      "[2 rows x 35 columns]\n"
     ]
    }
   ],
   "source": [
    "#select the teams that start with g\n",
    "start_with_G = euro12[euro12['Team'].str.startswith('G')]\n",
    "\n",
    "print(start_with_G)"
   ]
  },
  {
   "cell_type": "code",
   "execution_count": 34,
   "id": "41cc7e73",
   "metadata": {},
   "outputs": [
    {
     "name": "stdout",
     "output_type": "stream",
     "text": [
      "                   Team  Goals  Shots on target  Shots off target  \\\n",
      "0               Croatia      4               13                12   \n",
      "1        Czech Republic      4               13                18   \n",
      "2               Denmark      4               10                10   \n",
      "3               England      5               11                18   \n",
      "4                France      3               22                24   \n",
      "5               Germany     10               32                32   \n",
      "6                Greece      5                8                18   \n",
      "7                 Italy      6               34                45   \n",
      "8           Netherlands      2               12                36   \n",
      "9                Poland      2               15                23   \n",
      "10             Portugal      6               22                42   \n",
      "11  Republic of Ireland      1                7                12   \n",
      "12               Russia      5                9                31   \n",
      "13                Spain     12               42                33   \n",
      "14               Sweden      5               17                19   \n",
      "15              Ukraine      2                7                26   \n",
      "\n",
      "   Shooting Accuracy % Goals-to-shots  Total shots (inc. Blocked)  \n",
      "0              51.9%            16.0%                          32  \n",
      "1              41.9%            12.9%                          39  \n",
      "2              50.0%            20.0%                          27  \n",
      "3              50.0%            17.2%                          40  \n",
      "4              37.9%             6.5%                          65  \n",
      "5              47.8%            15.6%                          80  \n",
      "6              30.7%            19.2%                          32  \n",
      "7              43.0%             7.5%                         110  \n",
      "8              25.0%             4.1%                          60  \n",
      "9              39.4%             5.2%                          48  \n",
      "10             34.3%             9.3%                          82  \n",
      "11             36.8%             5.2%                          28  \n",
      "12             22.5%            12.5%                          59  \n",
      "13             55.9%            16.0%                         100  \n",
      "14             47.2%            13.8%                          39  \n",
      "15             21.2%             6.0%                          38  \n"
     ]
    }
   ],
   "source": [
    "#select the first 7 columns\n",
    "\n",
    "first_7_columns = euro12.iloc[:, :7]\n",
    "\n",
    "print(first_7_columns)"
   ]
  },
  {
   "cell_type": "code",
   "execution_count": 35,
   "id": "41dadf60",
   "metadata": {},
   "outputs": [
    {
     "name": "stdout",
     "output_type": "stream",
     "text": [
      "                   Team  Goals  Shots on target  Shots off target  \\\n",
      "0               Croatia      4               13                12   \n",
      "1        Czech Republic      4               13                18   \n",
      "2               Denmark      4               10                10   \n",
      "3               England      5               11                18   \n",
      "4                France      3               22                24   \n",
      "5               Germany     10               32                32   \n",
      "6                Greece      5                8                18   \n",
      "7                 Italy      6               34                45   \n",
      "8           Netherlands      2               12                36   \n",
      "9                Poland      2               15                23   \n",
      "10             Portugal      6               22                42   \n",
      "11  Republic of Ireland      1                7                12   \n",
      "12               Russia      5                9                31   \n",
      "13                Spain     12               42                33   \n",
      "14               Sweden      5               17                19   \n",
      "15              Ukraine      2                7                26   \n",
      "\n",
      "   Shooting Accuracy % Goals-to-shots  Total shots (inc. Blocked)  \\\n",
      "0              51.9%            16.0%                          32   \n",
      "1              41.9%            12.9%                          39   \n",
      "2              50.0%            20.0%                          27   \n",
      "3              50.0%            17.2%                          40   \n",
      "4              37.9%             6.5%                          65   \n",
      "5              47.8%            15.6%                          80   \n",
      "6              30.7%            19.2%                          32   \n",
      "7              43.0%             7.5%                         110   \n",
      "8              25.0%             4.1%                          60   \n",
      "9              39.4%             5.2%                          48   \n",
      "10             34.3%             9.3%                          82   \n",
      "11             36.8%             5.2%                          28   \n",
      "12             22.5%            12.5%                          59   \n",
      "13             55.9%            16.0%                         100   \n",
      "14             47.2%            13.8%                          39   \n",
      "15             21.2%             6.0%                          38   \n",
      "\n",
      "    Hit Woodwork  Penalty goals  Penalties not scored  ...  Clean Sheets  \\\n",
      "0              0              0                     0  ...             0   \n",
      "1              0              0                     0  ...             1   \n",
      "2              1              0                     0  ...             1   \n",
      "3              0              0                     0  ...             2   \n",
      "4              1              0                     0  ...             1   \n",
      "5              2              1                     0  ...             1   \n",
      "6              1              1                     1  ...             1   \n",
      "7              2              0                     0  ...             2   \n",
      "8              2              0                     0  ...             0   \n",
      "9              0              0                     0  ...             0   \n",
      "10             6              0                     0  ...             2   \n",
      "11             0              0                     0  ...             0   \n",
      "12             2              0                     0  ...             0   \n",
      "13             0              1                     0  ...             5   \n",
      "14             3              0                     0  ...             1   \n",
      "15             0              0                     0  ...             0   \n",
      "\n",
      "    Blocks  Goals conceded Saves made  Saves-to-shots ratio  Fouls Won  \\\n",
      "0       10               3         13                 81.3%         41   \n",
      "1       10               6          9                 60.1%         53   \n",
      "2       10               5         10                 66.7%         25   \n",
      "3       29               3         22                 88.1%         43   \n",
      "4        7               5          6                 54.6%         36   \n",
      "5       11               6         10                 62.6%         63   \n",
      "6       23               7         13                 65.1%         67   \n",
      "7       18               7         20                 74.1%        101   \n",
      "8        9               5         12                 70.6%         35   \n",
      "9        8               3          6                 66.7%         48   \n",
      "10      11               4         10                 71.5%         73   \n",
      "11      23               9         17                 65.4%         43   \n",
      "12       8               3         10                 77.0%         34   \n",
      "13       8               1         15                 93.8%        102   \n",
      "14      12               5          8                 61.6%         35   \n",
      "15       4               4         13                 76.5%         48   \n",
      "\n",
      "    Fouls Conceded  Offsides  Yellow Cards  Red Cards  \n",
      "0               62         2             9          0  \n",
      "1               73         8             7          0  \n",
      "2               38         8             4          0  \n",
      "3               45         6             5          0  \n",
      "4               51         5             6          0  \n",
      "5               49        12             4          0  \n",
      "6               48        12             9          1  \n",
      "7               89        16            16          0  \n",
      "8               30         3             5          0  \n",
      "9               56         3             7          1  \n",
      "10              90        10            12          0  \n",
      "11              51        11             6          1  \n",
      "12              43         4             6          0  \n",
      "13              83        19            11          0  \n",
      "14              51         7             7          0  \n",
      "15              31         4             5          0  \n",
      "\n",
      "[16 rows x 32 columns]\n"
     ]
    }
   ],
   "source": [
    "#select all columns except the last three\n",
    "\n",
    "all_but_last_3 = euro12.iloc[:, :-3]\n",
    "\n",
    "print(all_but_last_3)"
   ]
  },
  {
   "cell_type": "code",
   "execution_count": 40,
   "id": "266e738e",
   "metadata": {},
   "outputs": [
    {
     "name": "stdout",
     "output_type": "stream",
     "text": [
      "       Team Shooting Accuracy\n",
      "3   England             50.0%\n",
      "7     Italy             43.0%\n",
      "12   Russia             22.5%\n"
     ]
    }
   ],
   "source": [
    "#present the shooting accuracy from England, Italy and Russia\n",
    "\n",
    "shooting_accuracy_eir = euro12.loc[euro12['Team'].isin(['England', 'Italy', 'Russia']), ['Team', 'Shooting Accuracy']]\n",
    "\n",
    "print(shooting_accuracy_eir)"
   ]
  },
  {
   "cell_type": "markdown",
   "id": "9f1891e6",
   "metadata": {},
   "source": [
    "Question 3: Housing"
   ]
  },
  {
   "cell_type": "code",
   "execution_count": 41,
   "id": "be20960e",
   "metadata": {},
   "outputs": [],
   "source": [
    "#import necessary libraries\n",
    "import numpy as np\n",
    "import pandas as pd"
   ]
  },
  {
   "cell_type": "code",
   "execution_count": 42,
   "id": "42904109",
   "metadata": {},
   "outputs": [
    {
     "name": "stdout",
     "output_type": "stream",
     "text": [
      "Series 1: \n",
      "0    1\n",
      "1    1\n",
      "2    1\n",
      "3    3\n",
      "4    1\n",
      "dtype: int32\n",
      "Series 2: \n",
      "0    1\n",
      "1    1\n",
      "2    1\n",
      "3    2\n",
      "4    2\n",
      "dtype: int32\n",
      "Series 3: \n",
      "0    12320\n",
      "1    10046\n",
      "2    25253\n",
      "3    17378\n",
      "4    28567\n",
      "dtype: int32\n"
     ]
    }
   ],
   "source": [
    "#create a series of length 100 random numbers between 1 and 4\n",
    "series1 = pd.Series(np.random.randint(1, 5, size=100))\n",
    "\n",
    "#create a series of length 100 random numbers between 1 and 3\n",
    "series2 = pd.Series(np.random.randint(1, 4, size=100))\n",
    "\n",
    "#create a series of length 100 with random numbers between 10,000 and 30,000\n",
    "series3 = pd.Series(np.random.randint(10000, 30001, size=100))\n",
    "\n",
    "print(\"Series 1: \")\n",
    "print(series1.head())\n",
    "print(\"Series 2: \")\n",
    "print(series2.head())\n",
    "print(\"Series 3: \")\n",
    "print(series3.head())"
   ]
  },
  {
   "cell_type": "code",
   "execution_count": 43,
   "id": "4a3eba07",
   "metadata": {},
   "outputs": [
    {
     "name": "stdout",
     "output_type": "stream",
     "text": [
      "    0  1      2\n",
      "0   1  1  12320\n",
      "1   1  1  10046\n",
      "2   1  1  25253\n",
      "3   3  2  17378\n",
      "4   1  2  28567\n",
      ".. .. ..    ...\n",
      "95  3  3  24200\n",
      "96  2  1  28553\n",
      "97  1  3  16649\n",
      "98  3  2  24560\n",
      "99  4  2  18723\n",
      "\n",
      "[100 rows x 3 columns]\n"
     ]
    }
   ],
   "source": [
    "#create a dataframe by joining the series by column\n",
    "houses = pd.concat([series1, series2, series3], axis=1)\n",
    "\n",
    "print(houses)"
   ]
  },
  {
   "cell_type": "code",
   "execution_count": 44,
   "id": "f87968b1",
   "metadata": {},
   "outputs": [
    {
     "name": "stdout",
     "output_type": "stream",
     "text": [
      "    beds  baths  price_sqr_meter\n",
      "0      1      1            12320\n",
      "1      1      1            10046\n",
      "2      1      1            25253\n",
      "3      3      2            17378\n",
      "4      1      2            28567\n",
      "..   ...    ...              ...\n",
      "95     3      3            24200\n",
      "96     2      1            28553\n",
      "97     1      3            16649\n",
      "98     3      2            24560\n",
      "99     4      2            18723\n",
      "\n",
      "[100 rows x 3 columns]\n"
     ]
    }
   ],
   "source": [
    "#rename the columsn to beds, baths, price_sqr_metre\n",
    "houses = houses.rename(columns={0: 'beds', 1: 'baths', 2: 'price_sqr_meter'})\n",
    "\n",
    "print(houses)"
   ]
  },
  {
   "cell_type": "code",
   "execution_count": 46,
   "id": "65f981ca",
   "metadata": {},
   "outputs": [
    {
     "name": "stdout",
     "output_type": "stream",
     "text": [
      "0         1\n",
      "1         1\n",
      "2         1\n",
      "3         3\n",
      "4         1\n",
      "      ...  \n",
      "95    24200\n",
      "96    28553\n",
      "97    16649\n",
      "98    24560\n",
      "99    18723\n",
      "Name: bigcolumn, Length: 300, dtype: int32\n"
     ]
    }
   ],
   "source": [
    "#reate a one column DataFrame with the values of the 3 Series and assign it to 'bigcolumn'\n",
    "bigcolumn = pd.concat([series1, series2, series3], axis=0)\n",
    "\n",
    "bigcolumn = bigcolumn.rename('bigcolumn')\n",
    "\n",
    "print(bigcolumn)"
   ]
  },
  {
   "cell_type": "code",
   "execution_count": 47,
   "id": "399dbd53",
   "metadata": {},
   "outputs": [
    {
     "name": "stdout",
     "output_type": "stream",
     "text": [
      "0          1\n",
      "1          1\n",
      "2          1\n",
      "3          3\n",
      "4          1\n",
      "       ...  \n",
      "295    24200\n",
      "296    28553\n",
      "297    16649\n",
      "298    24560\n",
      "299    18723\n",
      "Name: bigcolumn, Length: 300, dtype: int32\n"
     ]
    }
   ],
   "source": [
    "#reset index\n",
    "\n",
    "bigcolumn = bigcolumn.reset_index(drop=True)\n",
    "\n",
    "print(bigcolumn)"
   ]
  },
  {
   "cell_type": "markdown",
   "id": "7b35d7ed",
   "metadata": {},
   "source": [
    "Question 4: Wind Statistics"
   ]
  },
  {
   "cell_type": "code",
   "execution_count": 48,
   "id": "375758be",
   "metadata": {},
   "outputs": [],
   "source": [
    "#import necessary libraries\n",
    "import numpy as np\n",
    "import pandas as pd"
   ]
  },
  {
   "cell_type": "code",
   "execution_count": 69,
   "id": "94b0a3fd",
   "metadata": {},
   "outputs": [
    {
     "name": "stdout",
     "output_type": "stream",
     "text": [
      "   Yr  Mo  Dy    RPT    VAL    ROS    KIL    SHA   BIR    DUB    CLA    MUL  \\\n",
      "0  61   1   1  15.04  14.96  13.17   9.29    NaN  9.87  13.67  10.25  10.83   \n",
      "1  61   1   2  14.71    NaN  10.83   6.50  12.62  7.67  11.50  10.04   9.79   \n",
      "2  61   1   3  18.50  16.88  12.33  10.13  11.17  6.17  11.25    NaN   8.50   \n",
      "3  61   1   4  10.58   6.63  11.75   4.58   4.54  2.88   8.63   1.79   5.83   \n",
      "4  61   1   5  13.33  13.25  11.42   6.17  10.71  8.21  11.92   6.54  10.92   \n",
      "\n",
      "     CLO    BEL    MAL  \n",
      "0  12.58  18.50  15.04  \n",
      "1   9.67  17.54  13.83  \n",
      "2   7.67  12.75  12.71  \n",
      "3   5.88   5.46  10.88  \n",
      "4  10.34  12.92  11.83  \n"
     ]
    }
   ],
   "source": [
    "#import data\n",
    "wind = pd.read_csv(r'C:\\Users\\alatt\\OneDrive\\Documents\\BDAT\\BDAT1004 - Data Programming\\PS3 Data\\wind.txt', delimiter='\\s+')\n",
    "\n",
    "#create dataframe\n",
    "data = pd.DataFrame(wind)\n",
    "\n",
    "print(data.head())"
   ]
  },
  {
   "cell_type": "code",
   "execution_count": 95,
   "id": "4a123ce1",
   "metadata": {},
   "outputs": [
    {
     "name": "stdout",
     "output_type": "stream",
     "text": [
      "     Yr  Mo  Dy    RPT    VAL    ROS    KIL    SHA   BIR    DUB    CLA    MUL  \\\n",
      "0  1961   1   1  15.04  14.96  13.17   9.29    NaN  9.87  13.67  10.25  10.83   \n",
      "1  1961   1   2  14.71    NaN  10.83   6.50  12.62  7.67  11.50  10.04   9.79   \n",
      "2  1961   1   3  18.50  16.88  12.33  10.13  11.17  6.17  11.25    NaN   8.50   \n",
      "3  1961   1   4  10.58   6.63  11.75   4.58   4.54  2.88   8.63   1.79   5.83   \n",
      "4  1961   1   5  13.33  13.25  11.42   6.17  10.71  8.21  11.92   6.54  10.92   \n",
      "\n",
      "     CLO    BEL    MAL  \n",
      "0  12.58  18.50  15.04  \n",
      "1   9.67  17.54  13.83  \n",
      "2   7.67  12.75  12.71  \n",
      "3   5.88   5.46  10.88  \n",
      "4  10.34  12.92  11.83  \n"
     ]
    }
   ],
   "source": [
    "#import data\n",
    "wind = pd.read_csv(r'C:\\Users\\alatt\\OneDrive\\Documents\\BDAT\\BDAT1004 - Data Programming\\PS3 Data\\wind.txt', delimiter='\\s+')\n",
    "\n",
    "#change all Yr values to 4 digit values\n",
    "wind['Yr'] = wind['Yr'].apply(lambda x: x + 1900)\n",
    "\n",
    "#create dataframe\n",
    "data = pd.DataFrame(wind)\n",
    "\n",
    "print(data.head())"
   ]
  },
  {
   "cell_type": "code",
   "execution_count": 97,
   "id": "a0526b51",
   "metadata": {},
   "outputs": [
    {
     "name": "stdout",
     "output_type": "stream",
     "text": [
      "              RPT    VAL    ROS    KIL    SHA   BIR    DUB    CLA    MUL  \\\n",
      "Date                                                                       \n",
      "1961-01-01  15.04  14.96  13.17   9.29    NaN  9.87  13.67  10.25  10.83   \n",
      "1961-01-02  14.71    NaN  10.83   6.50  12.62  7.67  11.50  10.04   9.79   \n",
      "1961-01-03  18.50  16.88  12.33  10.13  11.17  6.17  11.25    NaN   8.50   \n",
      "1961-01-04  10.58   6.63  11.75   4.58   4.54  2.88   8.63   1.79   5.83   \n",
      "1961-01-05  13.33  13.25  11.42   6.17  10.71  8.21  11.92   6.54  10.92   \n",
      "\n",
      "              CLO    BEL    MAL  \n",
      "Date                             \n",
      "1961-01-01  12.58  18.50  15.04  \n",
      "1961-01-02   9.67  17.54  13.83  \n",
      "1961-01-03   7.67  12.75  12.71  \n",
      "1961-01-04   5.88   5.46  10.88  \n",
      "1961-01-05  10.34  12.92  11.83  \n"
     ]
    }
   ],
   "source": [
    "#read the data\n",
    "wind = pd.read_csv(r'C:\\Users\\alatt\\OneDrive\\Documents\\BDAT\\BDAT1004 - Data Programming\\PS3 Data\\wind.txt', delimiter='\\s+')\n",
    "\n",
    "#change all Yr values to 4 digit values\n",
    "wind['Yr'] = wind['Yr'].apply(lambda x: x + 1900)\n",
    "\n",
    "#combine the first three columns into a single datetime column\n",
    "wind['Date'] = pd.to_datetime(wind[['Yr', 'Mo', 'Dy']].astype(str).agg('-'.join, axis=1), format='%Y-%m-%d')\n",
    "\n",
    "#set the new datetime column as the index\n",
    "wind.set_index('Date', inplace=True)\n",
    "\n",
    "#drop the original Yr, Mo, and Dy columns\n",
    "wind.drop(['Yr', 'Mo', 'Dy'], axis=1, inplace=True)\n",
    "\n",
    "print(wind.head())"
   ]
  },
  {
   "cell_type": "code",
   "execution_count": 98,
   "id": "574674f9",
   "metadata": {},
   "outputs": [
    {
     "name": "stdout",
     "output_type": "stream",
     "text": [
      "Number of missing values for each location:\n",
      " RPT    6\n",
      "VAL    3\n",
      "ROS    2\n",
      "KIL    5\n",
      "SHA    2\n",
      "BIR    0\n",
      "DUB    3\n",
      "CLA    2\n",
      "MUL    3\n",
      "CLO    1\n",
      "BEL    0\n",
      "MAL    4\n",
      "dtype: int64\n"
     ]
    }
   ],
   "source": [
    "#compute number of missing values\n",
    "missing_values_count = wind.isna().sum()\n",
    "\n",
    "print(\"Number of missing values for each location:\\n\",missing_values_count)"
   ]
  },
  {
   "cell_type": "code",
   "execution_count": 99,
   "id": "b74824b0",
   "metadata": {},
   "outputs": [
    {
     "name": "stdout",
     "output_type": "stream",
     "text": [
      "Total non missing values:\n",
      " 78857\n"
     ]
    }
   ],
   "source": [
    "#compute total of non-missing values\n",
    "\n",
    "non_missing_values = wind.size - wind.isna().sum().sum()\n",
    "\n",
    "print(\"Total non missing values:\\n\", non_missing_values)"
   ]
  },
  {
   "cell_type": "code",
   "execution_count": 100,
   "id": "5eecc206",
   "metadata": {},
   "outputs": [
    {
     "name": "stdout",
     "output_type": "stream",
     "text": [
      "The mean windspeed is:  10.22788376428218\n"
     ]
    }
   ],
   "source": [
    "#calculate mean wind speed for all locations and times\n",
    "mean_windspeed = wind.stack().mean()\n",
    "\n",
    "print(\"The mean windspeed is: \", mean_windspeed)"
   ]
  },
  {
   "cell_type": "code",
   "execution_count": 101,
   "id": "5a51197b",
   "metadata": {},
   "outputs": [
    {
     "name": "stdout",
     "output_type": "stream",
     "text": [
      "Summary statistics for windspeeds at each location:\n",
      "               RPT          VAL          ROS          KIL          SHA  \\\n",
      "count  6568.000000  6571.000000  6572.000000  6569.000000  6572.000000   \n",
      "mean     12.362987    10.644314    11.660526     6.306468    10.455834   \n",
      "std       5.618413     5.267356     5.008450     3.605811     4.936125   \n",
      "min       0.670000     0.210000     1.500000     0.000000     0.130000   \n",
      "25%       8.120000     6.670000     8.000000     3.580000     6.750000   \n",
      "50%      11.710000    10.170000    10.920000     5.750000     9.960000   \n",
      "75%      15.920000    14.040000    14.670000     8.420000    13.540000   \n",
      "max      35.800000    33.370000    33.840000    28.460000    37.540000   \n",
      "\n",
      "               BIR          DUB          CLA          MUL          CLO  \\\n",
      "count  6574.000000  6571.000000  6572.000000  6571.000000  6573.000000   \n",
      "mean      7.092254     9.797343     8.495053     8.493590     8.707332   \n",
      "std       3.968683     4.977555     4.499449     4.166872     4.503954   \n",
      "min       0.000000     0.000000     0.000000     0.000000     0.040000   \n",
      "25%       4.000000     6.000000     5.090000     5.370000     5.330000   \n",
      "50%       6.830000     9.210000     8.080000     8.170000     8.290000   \n",
      "75%       9.670000    12.960000    11.420000    11.190000    11.630000   \n",
      "max      26.160000    30.370000    31.080000    25.880000    28.210000   \n",
      "\n",
      "               BEL          MAL  \n",
      "count  6574.000000  6570.000000  \n",
      "mean     13.121007    15.599079  \n",
      "std       5.835037     6.699794  \n",
      "min       0.130000     0.670000  \n",
      "25%       8.710000    10.710000  \n",
      "50%      12.500000    15.000000  \n",
      "75%      16.880000    19.830000  \n",
      "max      42.380000    42.540000  \n"
     ]
    }
   ],
   "source": [
    "#create a dataframe called loc_stats and calculate the min, max and mean windwpeeds and stdev of windspeeds at each location\n",
    "loc_stats = wind.describe()\n",
    "\n",
    "print(\"Summary statistics for windspeeds at each location:\")\n",
    "print(loc_stats)"
   ]
  },
  {
   "cell_type": "code",
   "execution_count": 102,
   "id": "f615787d",
   "metadata": {},
   "outputs": [
    {
     "name": "stdout",
     "output_type": "stream",
     "text": [
      "Summary statistics for windspeeds across all locations at each day:\n",
      "Date   1961-01-01  1961-01-02  1961-01-03  1961-01-04  1961-01-05  1961-01-06  \\\n",
      "count   11.000000   11.000000   11.000000   12.000000   12.000000   12.000000   \n",
      "mean    13.018182   11.336364   11.641818    6.619167   10.630000    8.240000   \n",
      "std      2.808875    3.188994    3.681912    3.198126    2.445356    2.998063   \n",
      "min      9.290000    6.500000    6.170000    1.790000    6.170000    4.420000   \n",
      "25%     10.540000    9.730000    9.315000    4.570000    9.807500    6.345000   \n",
      "50%     13.170000   10.830000   11.250000    5.855000   11.170000    7.810000   \n",
      "75%     15.000000   13.225000   12.730000    9.117500   12.170000   10.137500   \n",
      "max     18.500000   17.540000   18.500000   11.750000   13.330000   13.210000   \n",
      "\n",
      "Date   1961-01-07  1961-01-08  1961-01-09  1961-01-10  ...  1978-12-22  \\\n",
      "count   12.000000   12.000000   12.000000    12.00000  ...   12.000000   \n",
      "mean    10.385000   10.487500    9.897500    10.47750  ...    7.000833   \n",
      "std      3.072114    3.547237    2.905954     3.44261  ...    3.237337   \n",
      "min      4.960000    5.910000    4.750000     6.54000  ...    2.460000   \n",
      "25%      8.237500    7.620000    7.977500     8.48750  ...    5.077500   \n",
      "50%      9.395000    9.685000   10.065000     9.35500  ...    6.795000   \n",
      "75%     13.572500   11.792500   11.267500    11.52250  ...    8.765000   \n",
      "max     14.290000   16.620000   15.370000    19.50000  ...   13.080000   \n",
      "\n",
      "Date   1978-12-23  1978-12-24  1978-12-25  1978-12-26  1978-12-27  1978-12-28  \\\n",
      "count   12.000000   12.000000   12.000000   12.000000   12.000000   12.000000   \n",
      "mean    15.613333   10.823333    5.729167    6.523333   16.708333   15.150000   \n",
      "std      3.850840    7.195039    3.583263    4.304510    7.868076    9.687857   \n",
      "min      9.500000    4.790000    0.750000    1.960000    8.080000    5.000000   \n",
      "25%     12.987500    5.840000    4.102500    3.070000   13.802500    9.095000   \n",
      "50%     15.395000   10.040000    5.230000    4.540000   15.025000   13.895000   \n",
      "75%     17.495000   11.970000    7.365000   10.722500   17.302500   16.700000   \n",
      "max     22.210000   31.710000   13.960000   13.830000   40.080000   41.460000   \n",
      "\n",
      "Date   1978-12-29  1978-12-30  1978-12-31  \n",
      "count   12.000000   12.000000   12.000000  \n",
      "mean    14.890000   15.367500   15.402500  \n",
      "std      5.756836    5.540437    5.702483  \n",
      "min      8.710000    9.130000    9.590000  \n",
      "25%     10.477500   12.375000   11.530000  \n",
      "50%     14.210000   13.455000   12.080000  \n",
      "75%     17.035000   18.185000   19.520000  \n",
      "max     29.580000   28.790000   27.290000  \n",
      "\n",
      "[8 rows x 6574 columns]\n"
     ]
    }
   ],
   "source": [
    "#create a dataframe called day_stats and calculate the min, max and mean mindspeed and stdev across all locations each day\n",
    "# Transpose the DataFrame\n",
    "transposed_wind = wind.T\n",
    "\n",
    "# Calculate summary statistics for each day across all locations\n",
    "day_stats = transposed_wind.describe()\n",
    "\n",
    "# Display the result\n",
    "print(\"Summary statistics for windspeeds across all locations at each day:\")\n",
    "print(day_stats)"
   ]
  },
  {
   "cell_type": "code",
   "execution_count": 103,
   "id": "4edc1a8c",
   "metadata": {},
   "outputs": [
    {
     "name": "stdout",
     "output_type": "stream",
     "text": [
      "Average windspeed in January for each location:\n",
      "RPT    14.847325\n",
      "VAL    12.914560\n",
      "ROS    13.299624\n",
      "KIL     7.199498\n",
      "SHA    11.667734\n",
      "BIR     8.054839\n",
      "DUB    11.819355\n",
      "CLA     9.512047\n",
      "MUL     9.543208\n",
      "CLO    10.053566\n",
      "BEL    14.550520\n",
      "MAL    18.028763\n",
      "dtype: float64\n"
     ]
    }
   ],
   "source": [
    "#find average windspeed in January for each location\n",
    "january_data = wind[wind.index.month == 1]\n",
    "\n",
    "average_january_windspeed = january_data.mean()\n",
    "\n",
    "print(\"Average windspeed in January for each location:\")\n",
    "print(average_january_windspeed)"
   ]
  },
  {
   "cell_type": "code",
   "execution_count": 104,
   "id": "31ca991f",
   "metadata": {},
   "outputs": [
    {
     "name": "stdout",
     "output_type": "stream",
     "text": [
      "Yearly mean windspeed for each location:\n",
      "                  RPT        VAL        ROS       KIL        SHA       BIR  \\\n",
      "Date                                                                         \n",
      "1961-12-31  12.299583  10.351796  11.362369  6.958227  10.881763  7.729726   \n",
      "1962-12-31  12.246923  10.110438  11.732712  6.960440  10.657918  7.393068   \n",
      "1963-12-31  12.813452  10.836986  12.541151  7.330055  11.724110  8.434712   \n",
      "1964-12-31  12.363661  10.920164  12.104372  6.787787  11.454481  7.570874   \n",
      "1965-12-31  12.451370  11.075534  11.848767  6.858466  11.024795  7.478110   \n",
      "1966-12-31  13.461973  11.557205  12.020630  7.345726  11.805041  7.793671   \n",
      "1967-12-31  12.737151  10.990986  11.739397  7.143425  11.630740  7.368164   \n",
      "1968-12-31  11.835628  10.468197  11.409754  6.477678  10.760765  6.067322   \n",
      "1969-12-31  11.166356   9.723699  10.902000  5.767973   9.873918  6.189973   \n",
      "1970-12-31  12.600329  10.726932  11.730247  6.217178  10.567370  7.609452   \n",
      "1971-12-31  11.273123   9.095178  11.088329  5.241507   9.440329  6.097151   \n",
      "1972-12-31  12.463962  10.561311  12.058333  5.929699   9.430410  6.358825   \n",
      "1973-12-31  11.828466  10.680493  10.680493  5.547863   9.640877  6.548740   \n",
      "1974-12-31  13.643096  11.811781  12.336356  6.427041  11.110986  6.809781   \n",
      "1975-12-31  12.008575  10.293836  11.564712  5.269096   9.190082  5.668521   \n",
      "1976-12-31  11.737842  10.203115  10.761230  5.109426   8.846339  6.311038   \n",
      "1977-12-31  13.099616  11.144493  12.627836  6.073945  10.003836  8.586438   \n",
      "1978-12-31  12.504356  11.044274  11.380000  6.082356  10.167233  7.650658   \n",
      "\n",
      "                  DUB        CLA       MUL        CLO        BEL        MAL  \n",
      "Date                                                                         \n",
      "1961-12-31   9.733923   8.858788  8.647652   9.835577  13.502795  13.680773  \n",
      "1962-12-31  11.020712   8.793753  8.316822   9.676247  12.930685  14.323956  \n",
      "1963-12-31  11.075699  10.336548  8.903589  10.224438  13.638877  14.999014  \n",
      "1964-12-31  10.259153   9.467350  7.789016  10.207951  13.740546  14.910301  \n",
      "1965-12-31  10.618712   8.879918  7.907425   9.918082  12.964247  15.591644  \n",
      "1966-12-31  10.579808   8.835096  8.514438   9.768959  14.265836  16.307260  \n",
      "1967-12-31  10.652027   9.325616  8.645014   9.547425  14.774548  17.135945  \n",
      "1968-12-31   8.859180   8.255519  7.224945   7.832978  12.808634  15.017486  \n",
      "1969-12-31   8.564493   7.711397  7.924521   7.754384  12.621233  15.762904  \n",
      "1970-12-31   9.609890   8.334630  9.297616   8.289808  13.183644  16.456027  \n",
      "1971-12-31   8.385890   6.757315  7.915370   7.229753  12.208932  15.025233  \n",
      "1972-12-31   9.704508   7.680792  8.357295   7.515273  12.727377  15.028716  \n",
      "1973-12-31   8.482110   7.614274  8.245534   7.812411  12.169699  15.441096  \n",
      "1974-12-31  10.084603   9.896986  9.331753   8.736356  13.252959  16.947671  \n",
      "1975-12-31   8.562603   7.843836  8.797945   7.382822  12.631671  15.307863  \n",
      "1976-12-31   9.149126   7.146202  8.883716   7.883087  12.332377  15.471448  \n",
      "1977-12-31  11.523205   8.378384  9.098192   8.821616  13.459068  16.590849  \n",
      "1978-12-31   9.489342   8.800466  9.089753   8.301699  12.967397  16.771370  \n"
     ]
    }
   ],
   "source": [
    "#downsample to a yearly frequency for each location\n",
    "yearly_mean_windspeed = wind.resample('Y').mean()\n",
    "\n",
    "print(\"Yearly mean windspeed for each location:\")\n",
    "print(yearly_mean_windspeed)"
   ]
  },
  {
   "cell_type": "code",
   "execution_count": 105,
   "id": "85b8eda2",
   "metadata": {},
   "outputs": [
    {
     "name": "stdout",
     "output_type": "stream",
     "text": [
      "Monthly mean windspeed for each location:\n",
      "                  RPT        VAL        ROS       KIL        SHA        BIR  \\\n",
      "Date                                                                          \n",
      "1961-01-31  14.841333  11.988333  13.431613  7.736774  11.072759   8.588065   \n",
      "1961-02-28  16.269286  14.975357  14.441481  9.230741  13.852143  10.937500   \n",
      "1961-03-31  10.890000  11.296452  10.752903  7.284000  10.509355   8.866774   \n",
      "1961-04-30  10.722667   9.427667   9.998000  5.830667   8.435000   6.495000   \n",
      "1961-05-31   9.860968   8.850000  10.818065  5.905333   9.490323   6.574839   \n",
      "...               ...        ...        ...       ...        ...        ...   \n",
      "1978-08-31   9.645161   8.259355   9.032258  4.502903   7.368065   5.935161   \n",
      "1978-09-30  10.913667  10.895000  10.635000  5.725000  10.372000   9.278333   \n",
      "1978-10-31   9.897742   8.670968   9.295806  4.721290   8.525161   6.774194   \n",
      "1978-11-30  16.151667  14.802667  13.508000  7.317333  11.475000   8.743000   \n",
      "1978-12-31  16.175484  13.748065  15.635161  7.094839  11.398710   9.241613   \n",
      "\n",
      "                  DUB        CLA        MUL        CLO        BEL        MAL  \n",
      "Date                                                                          \n",
      "1961-01-31  11.184839   9.245333   9.085806  10.107419  13.880968  14.703226  \n",
      "1961-02-28  11.890714  11.846071  11.821429  12.714286  18.583214  15.411786  \n",
      "1961-03-31   9.644194   9.829677  10.294138  11.251935  16.410968  15.720000  \n",
      "1961-04-30   6.925333   7.094667   7.342333   7.237000  11.147333  10.278333  \n",
      "1961-05-31   7.604000   8.177097   8.039355   8.499355  11.900323  12.011613  \n",
      "...               ...        ...        ...        ...        ...        ...  \n",
      "1978-08-31   5.650323   5.417742   7.241290   5.536774  10.466774  12.054194  \n",
      "1978-09-30  10.790333   9.583000  10.069333   8.939000  15.680333  19.391333  \n",
      "1978-10-31   8.115484   7.337742   8.297742   8.243871  13.776774  17.150000  \n",
      "1978-11-30  11.492333   9.657333  10.701333  10.676000  17.404667  20.723000  \n",
      "1978-12-31  12.077419  10.194839  10.616774  11.028710  13.859677  21.371613  \n",
      "\n",
      "[216 rows x 12 columns]\n"
     ]
    }
   ],
   "source": [
    "#downsample to a monthly frequency for each location\n",
    "monthly_mean_windspeed = wind.resample('M').mean()\n",
    "\n",
    "print(\"Monthly mean windspeed for each location:\")\n",
    "print(monthly_mean_windspeed)"
   ]
  },
  {
   "cell_type": "code",
   "execution_count": 107,
   "id": "bbc184a9",
   "metadata": {},
   "outputs": [
    {
     "name": "stdout",
     "output_type": "stream",
     "text": [
      "Weekly mean windspeed for each location:\n",
      "                  RPT        VAL        ROS        KIL        SHA        BIR  \\\n",
      "Date                                                                           \n",
      "1961-01-01  15.040000  14.960000  13.170000   9.290000        NaN   9.870000   \n",
      "1961-01-08  13.541429  11.486667  10.487143   6.417143   9.474286   6.435714   \n",
      "1961-01-15  12.468571   8.967143  11.958571   4.630000   7.351429   5.072857   \n",
      "1961-01-22  13.204286   9.862857  12.982857   6.328571   8.966667   7.417143   \n",
      "1961-01-29  19.880000  16.141429  18.225714  12.720000  17.432857  14.828571   \n",
      "...               ...        ...        ...        ...        ...        ...   \n",
      "1978-12-03  14.934286  11.232857  13.941429   5.565714  10.215714   8.618571   \n",
      "1978-12-10  20.740000  19.190000  17.034286   9.777143  15.287143  12.774286   \n",
      "1978-12-17  16.758571  14.692857  14.987143   6.917143  11.397143   7.272857   \n",
      "1978-12-24  11.155714   8.008571  13.172857   4.004286   7.825714   6.290000   \n",
      "1978-12-31  14.951429  11.801429  16.035714   6.507143   9.660000   8.620000   \n",
      "\n",
      "                  DUB        CLA        MUL        CLO        BEL        MAL  \n",
      "Date                                                                          \n",
      "1961-01-01  13.670000  10.250000  10.830000  12.580000  18.500000  15.040000  \n",
      "1961-01-08  11.061429   6.616667   8.434286   8.497143  12.481429  13.238571  \n",
      "1961-01-15   7.535714   6.820000   5.712857   7.571429  11.125714  11.024286  \n",
      "1961-01-22   9.257143   7.875714   7.145714   8.124286   9.821429  11.434286  \n",
      "1961-01-29  15.528571  15.160000  14.480000  15.640000  20.930000  22.530000  \n",
      "...               ...        ...        ...        ...        ...        ...  \n",
      "1978-12-03   9.642857   7.685714   9.011429   9.547143  11.835714  18.728571  \n",
      "1978-12-10  14.437143  12.488571  13.870000  14.082857  18.517143  23.061429  \n",
      "1978-12-17  10.208571   7.967143   9.168571   8.565714  11.102857  15.562857  \n",
      "1978-12-24   7.798571   8.667143   7.151429   8.072857  11.845714  18.977143  \n",
      "1978-12-31  13.708571  10.477143  10.868571  11.471429  12.947143  26.844286  \n",
      "\n",
      "[940 rows x 12 columns]\n"
     ]
    }
   ],
   "source": [
    "#downsample to a weeklyfrequency for each location\n",
    "weekly_mean_windspeed = wind.resample('W').mean()\n",
    "\n",
    "print(\"Weekly mean windspeed for each location:\")\n",
    "print(weekly_mean_windspeed)"
   ]
  },
  {
   "cell_type": "code",
   "execution_count": 110,
   "id": "5c7110a9",
   "metadata": {},
   "outputs": [
    {
     "name": "stdout",
     "output_type": "stream",
     "text": [
      "              RPT                                VAL                    \\\n",
      "              min    max       mean       std    min    max       mean   \n",
      "Date                                                                     \n",
      "1961-01-08  10.58  18.50  13.541429  2.631321   6.63  16.88  11.486667   \n",
      "1961-01-15   9.04  19.75  12.468571  3.555392   3.54  12.08   8.967143   \n",
      "1961-01-22   4.92  19.83  13.204286  5.337402   3.42  14.37   9.862857   \n",
      "1961-01-29  13.62  25.04  19.880000  4.619061   9.96  23.91  16.141429   \n",
      "1961-02-05  10.58  24.21  16.827143  5.251408   9.46  24.21  15.460000   \n",
      "1961-02-12  16.00  24.54  19.684286  3.587677  11.54  21.42  16.417143   \n",
      "1961-02-19   6.04  22.50  15.130000  5.064609  11.63  20.17  15.091429   \n",
      "1961-02-26   7.79  25.80  15.221429  7.020716   7.08  21.50  13.625714   \n",
      "1961-03-05  10.96  13.33  12.101429  0.997721   8.83  17.00  12.951429   \n",
      "1961-03-12   4.88  14.79   9.376667  3.732263   8.08  16.96  11.578571   \n",
      "1961-03-19   4.92  16.88  11.911429  3.860036   9.46  15.54  13.501429   \n",
      "1961-03-26   6.29  15.00   9.567143  3.613298   2.58  11.63   8.387143   \n",
      "1961-04-02   5.88  18.25  10.757143  5.046922   3.50  16.29   8.852857   \n",
      "1961-04-09   4.50  18.12  11.964286  4.604392   7.04  14.62  10.654286   \n",
      "1961-04-16   4.71  15.50   8.965714  3.937727   4.83  12.25   8.000000   \n",
      "1961-04-23   4.00  21.09  12.621429  5.676655   3.71  15.41  10.438571   \n",
      "1961-04-30   4.08  16.29  10.117143  4.349662   6.50  14.46   9.798571   \n",
      "1961-05-07   9.87  23.00  15.367143  5.025507  10.29  19.79  13.970000   \n",
      "1961-05-14   3.54  12.79   7.772857  3.371022   3.96  15.12   8.712857   \n",
      "1961-05-21   4.88  15.04   8.225714  3.631730   3.58  10.17   5.631667   \n",
      "1961-05-28   4.96  11.79   8.155714  2.739433   3.67  12.50   7.388571   \n",
      "1961-06-04   7.00  15.92  10.321429  3.099701   4.75   9.79   7.407143   \n",
      "1961-06-11   8.29  14.42  10.917143  2.248597   6.83  11.54   8.992857   \n",
      "1961-06-18   6.13  14.33  10.571429  3.009482   4.12  14.54   9.565714   \n",
      "1961-06-25   4.00   9.00   7.345714  1.982035   3.25   9.50   6.108571   \n",
      "1961-07-02   7.21  13.13  10.236667  2.557856   6.34  14.37   9.482857   \n",
      "1961-07-09   7.29  17.50  11.715714  3.664855   3.75  10.75   7.220000   \n",
      "1961-07-16   8.63  22.50  16.680000  5.168710   7.87  19.29  13.518571   \n",
      "1961-07-23   3.04   5.88   4.202857  1.047978   2.92   6.79   4.255714   \n",
      "1961-07-30   6.13  16.08  10.561429  4.157641   4.63  13.79   8.445714   \n",
      "1961-08-06   7.67  16.08  10.870000  2.950887   5.09  15.79   8.792857   \n",
      "1961-08-13   2.88  14.21  10.058333  4.422268   4.42  10.00   7.941429   \n",
      "1961-08-20  13.13  18.91  15.607143  2.283635   7.25  13.62  10.565714   \n",
      "1961-08-27   7.67  18.16  12.391429  3.395857   6.87  14.58  11.430000   \n",
      "1961-09-03   3.63  14.46   8.678571  4.398615   1.13  22.00   8.821429   \n",
      "1961-09-10   5.00  17.62  10.541429  5.207278   3.04  13.59   8.798571   \n",
      "1961-09-17   5.33  28.75  17.160000  7.679190   7.12  22.08  14.440000   \n",
      "1961-09-24   6.92  10.25   8.500000  1.267399   2.92  13.62   7.154286   \n",
      "1961-10-01  10.34  23.21  16.044286  4.559572   6.96  13.62  11.361667   \n",
      "1961-10-08   3.13  16.08  11.250000  5.596710   3.63  16.96   8.757143   \n",
      "1961-10-15   3.71  17.12  10.881667  4.780675   6.13  13.25   9.734286   \n",
      "1961-10-22  10.46  28.62  19.260000  7.888314   3.75  19.46  13.364286   \n",
      "1961-10-29   4.33  26.42  16.077143  7.957637   2.75  21.25  11.867143   \n",
      "1961-11-05   5.88  15.79  11.571429  3.369201   3.96  13.46   9.590000   \n",
      "1961-11-12   5.46  16.08  10.428571  3.939811   5.50  10.75   7.690000   \n",
      "1961-11-19   7.50  15.00  10.798571  2.784358   4.21  13.00   7.951429   \n",
      "1961-11-26   5.75  14.29   9.154286  3.214368   3.29  11.79   7.337143   \n",
      "1961-12-03   7.92  23.75  12.608571  5.704669   4.67  18.71  10.442857   \n",
      "1961-12-10  10.83  23.71  17.362857  4.890152   9.21  21.37  14.362857   \n",
      "1961-12-17   9.29  21.34  14.985714  4.095106   8.63  17.62  13.472857   \n",
      "1961-12-24  11.46  24.41  15.757143  4.959717   9.79  16.13  11.971429   \n",
      "1961-12-31   5.04  20.54  13.634286  5.787783   3.08  16.04   9.504286   \n",
      "\n",
      "                        ROS         ...        CLO              BEL         \\\n",
      "                 std    min    max  ...       mean       std    min    max   \n",
      "Date                                ...                                      \n",
      "1961-01-08  3.949525   7.62  12.33  ...   8.497143  1.704941   5.46  17.54   \n",
      "1961-01-15  3.148945   7.08  19.50  ...   7.571429  4.084293   5.25  20.71   \n",
      "1961-01-22  3.837785   7.29  20.79  ...   8.124286  4.783952   6.50  15.92   \n",
      "1961-01-29  5.170224  12.67  25.84  ...  15.640000  3.713368  14.04  27.71   \n",
      "1961-02-05  5.187395   9.04  19.70  ...   9.460000  2.839501   9.17  19.33   \n",
      "1961-02-12  3.608373  13.67  21.34  ...  14.440000  1.746749  15.21  26.38   \n",
      "1961-02-19  3.575012   6.13  19.41  ...  13.542857  2.531361  14.09  29.63   \n",
      "1961-02-26  5.147348   6.08  22.42  ...  12.730000  4.920064   9.59  23.21   \n",
      "1961-03-05  2.851955   8.17  13.67  ...  12.370000  1.593685  11.58  23.45   \n",
      "1961-03-12  3.230167   7.54  16.38  ...  10.458571  3.655113  10.21  22.71   \n",
      "1961-03-19  2.352867   5.25  13.96  ...  11.627143  3.099472  11.29  22.79   \n",
      "1961-03-26  3.657265   4.79  15.63  ...  11.481429  2.538224   8.25  21.34   \n",
      "1961-04-02  4.687315   5.09  14.96  ...   9.631429  3.191115   7.21  18.63   \n",
      "1961-04-09  2.845399   9.29  18.29  ...   7.238571  2.336182   7.62  17.16   \n",
      "1961-04-16  2.607118   3.92  15.79  ...   6.178571  2.161137   5.75  16.17   \n",
      "1961-04-23  4.631736   3.33  17.00  ...   9.551429  3.347972   6.75  19.21   \n",
      "1961-04-30  2.871425   2.54  14.96  ...   6.124286  2.840568   5.13  13.04   \n",
      "1961-05-07  3.750835   8.42  21.21  ...  11.585714  3.620819   4.79  28.08   \n",
      "1961-05-14  3.782947   4.63  12.33  ...   7.822857  5.460237   6.54  18.66   \n",
      "1961-05-21  2.468906   5.91  15.96  ...   7.114286  2.216889   6.63  12.00   \n",
      "1961-05-28  3.378537   3.58  20.96  ...   7.535714  2.575661   6.13  14.33   \n",
      "1961-06-04  1.868125   6.83  15.96  ...   9.035714  2.096989   8.71  17.00   \n",
      "1961-06-11  1.524836   6.04  11.58  ...   8.397143  2.158323   5.37  16.17   \n",
      "1961-06-18  3.509444   6.50  15.50  ...   9.594286  3.792400   7.29  25.25   \n",
      "1961-06-25  2.212460   5.13  10.37  ...  11.257143  2.286218  11.00  19.08   \n",
      "1961-07-02  2.902411   7.62  10.79  ...  10.268571  1.564144   6.96  21.87   \n",
      "1961-07-09  2.686658   7.41  14.92  ...  10.547143  3.657179   7.08  20.41   \n",
      "1961-07-16  3.849630   8.00  14.29  ...  10.157143  3.271899   5.04  20.25   \n",
      "1961-07-23  1.400010   4.08  12.67  ...   6.041429  1.439785   4.21  10.13   \n",
      "1961-07-30  3.203206   6.42  15.67  ...   9.470000  4.350268   7.87  22.17   \n",
      "1961-08-06  3.985226   5.54  15.59  ...   8.951429  2.903018   6.17  18.54   \n",
      "1961-08-13  2.053326   6.00  11.63  ...   7.235000  2.073777   5.88  14.29   \n",
      "1961-08-20  2.523416   9.17  14.04  ...  12.244286  2.730237   9.59  21.92   \n",
      "1961-08-27  3.174702   9.50  17.83  ...  12.507143  3.855302   5.75  23.38   \n",
      "1961-09-03  7.474025   2.42  12.75  ...   8.924286  3.993736   4.79  24.71   \n",
      "1961-09-10  4.003996   3.63  14.88  ...   7.565714  3.649278   5.41  15.83   \n",
      "1961-09-17  5.360585   7.29  26.50  ...  14.268571  5.128338  13.92  23.91   \n",
      "1961-09-24  3.445262   5.33  12.17  ...   6.798571  2.354092   4.54  20.96   \n",
      "1961-10-01  2.812482   7.87  17.58  ...  11.840000  3.908397   7.79  21.37   \n",
      "1961-10-08  5.060803   4.96  17.83  ...   7.662857  4.296870   4.79  17.83   \n",
      "1961-10-15  2.707483   4.21  20.96  ...   9.494286  3.569308   8.54  20.46   \n",
      "1961-10-22  5.998199   9.92  22.63  ...  16.461429  5.890511  10.88  24.71   \n",
      "1961-10-29  6.879973   4.79  23.09  ...  12.952857  6.277629   8.50  27.29   \n",
      "1961-11-05  3.900278   6.54  14.33  ...  11.864286  2.784450  10.29  20.17   \n",
      "1961-11-12  2.141191   3.83  20.41  ...   6.415714  2.843518   6.13  12.58   \n",
      "1961-11-19  3.208548   6.46  32.71  ...   6.031429  4.402588   0.71   9.59   \n",
      "1961-11-26  3.277904   4.42  14.46  ...   9.582857  2.747452   6.50  20.46   \n",
      "1961-12-03  5.107089   8.00  19.92  ...   7.911429  3.680477   5.50  19.04   \n",
      "1961-12-10  4.115506   9.71  20.54  ...  12.022857  4.156207  10.71  21.79   \n",
      "1961-12-17  3.587886   9.04  19.00  ...  11.058571  4.633398   5.50  22.83   \n",
      "1961-12-24  2.220866   8.08  22.13  ...   7.697143  4.637096   5.29  17.67   \n",
      "1961-12-31  4.566479   2.13  29.33  ...   7.701429  3.526625   3.75  13.21   \n",
      "\n",
      "                                   MAL                              \n",
      "                 mean       std    min    max       mean       std  \n",
      "Date                                                                \n",
      "1961-01-08  12.481429  4.349139  10.88  16.46  13.238571  1.773062  \n",
      "1961-01-15  11.125714  5.552215   5.17  16.92  11.024286  4.692355  \n",
      "1961-01-22   9.821429  3.626584   6.79  17.96  11.434286  4.237239  \n",
      "1961-01-29  20.930000  5.210726  17.50  27.63  22.530000  3.874721  \n",
      "1961-02-05  14.012857  4.210858   7.17  19.25  11.935714  4.336104  \n",
      "1961-02-12  21.832857  4.063753  17.04  21.84  19.155714  1.828705  \n",
      "1961-02-19  21.167143  5.910938  10.96  22.58  16.584286  4.685377  \n",
      "1961-02-26  16.304286  5.091162   6.67  23.87  14.322857  6.182283  \n",
      "1961-03-05  17.842857  4.332331   8.83  17.54  13.951667  3.021387  \n",
      "1961-03-12  16.701429  4.358759   5.54  22.54  14.420000  5.769890  \n",
      "1961-03-19  19.350000  3.779727  11.34  22.95  16.227143  4.331958  \n",
      "1961-03-26  14.037143  4.318069  13.13  22.50  18.134286  3.701846  \n",
      "1961-04-02  13.471429  4.179854   7.17  19.58  13.900000  3.924555  \n",
      "1961-04-09  11.712857  3.147781   7.21  15.34  11.371429  2.598271  \n",
      "1961-04-16   9.482857  3.641464   5.66  12.87   8.690000  2.747842  \n",
      "1961-04-23  13.620000  4.735096   4.96  20.46  12.470000  5.908542  \n",
      "1961-04-30   9.720000  2.948237   2.67  17.50   8.637143  5.108365  \n",
      "1961-05-07  17.548571  8.003490   3.83  26.58  14.571429  7.728504  \n",
      "1961-05-14  10.421429  3.968272   3.33  26.30  10.382857  7.858246  \n",
      "1961-05-21   9.624286  1.975853   5.91  14.96  10.612857  3.310819  \n",
      "1961-05-28  10.518571  3.024524   8.00  17.04  11.697143  3.811818  \n",
      "1961-06-04  12.298571  2.611139  10.63  17.96  13.597143  2.593586  \n",
      "1961-06-11  10.148571  3.993062   5.96  19.83  12.250000  4.925055  \n",
      "1961-06-18  15.351429  6.477887   6.13  24.71  15.025714  6.242673  \n",
      "1961-06-25  14.370000  2.498386  13.75  21.50  17.410000  3.063011  \n",
      "1961-07-02  14.535714  6.303747   8.50  16.79  12.133333  3.652313  \n",
      "1961-07-09  12.220000  4.537988  12.08  21.29  15.987143  3.665705  \n",
      "1961-07-16  13.520000  4.971060   5.96  21.96  12.524286  4.974273  \n",
      "1961-07-23   7.524286  2.050218   5.41  10.92   8.415714  2.133994  \n",
      "1961-07-30  12.841429  5.580903   6.13  25.37  13.761429  6.664574  \n",
      "1961-08-06  11.595714  4.901377   9.08  20.25  13.760000  4.448251  \n",
      "1961-08-13  10.934286  2.931302   5.88  15.16  10.125714  3.356585  \n",
      "1961-08-20  14.922857  4.086725  13.04  24.30  16.626667  3.934238  \n",
      "1961-08-27  16.251429  6.711322   8.29  22.29  16.485714  4.947608  \n",
      "1961-09-03  13.664286  7.678051   5.41  22.54  11.022857  6.308087  \n",
      "1961-09-10  10.700000  4.220584   3.37  20.25  11.034286  6.049619  \n",
      "1961-09-17  19.878571  4.464252  14.67  33.09  18.984286  6.332885  \n",
      "1961-09-24  11.018571  5.235868   5.25  14.62   9.814286  3.113507  \n",
      "1961-10-01  16.208571  5.091268   4.04  17.16  13.338571  4.696504  \n",
      "1961-10-08   8.810000  4.800403   4.83  19.62  11.410000  5.462002  \n",
      "1961-10-15  14.451429  4.113200  10.75  21.04  15.260000  4.098130  \n",
      "1961-10-22  17.477143  5.645871  13.46  33.45  23.641429  7.468377  \n",
      "1961-10-29  15.592857  7.056150   9.83  30.88  18.404286  8.340881  \n",
      "1961-11-05  16.322857  4.038493  13.37  23.58  19.195714  3.870800  \n",
      "1961-11-12   9.208571  2.532196   5.71  15.54  10.858571  3.690752  \n",
      "1961-11-19   5.875714  3.643285   2.00  13.25   5.737143  3.787654  \n",
      "1961-11-26  11.772857  5.407223   4.25  22.58  12.732857  6.475867  \n",
      "1961-12-03  11.464286  5.552648   5.88  21.29  14.725714  5.233192  \n",
      "1961-12-10  15.975714  4.667933   7.58  29.33  16.241429  7.345893  \n",
      "1961-12-17  15.112857  6.531043   6.50  21.12  14.644286  5.665006  \n",
      "1961-12-24   9.958571  5.065308   2.62  16.62   8.164286  5.048035  \n",
      "1961-12-31   9.697143  3.262217   6.63  15.21  12.840000  3.012729  \n",
      "\n",
      "[52 rows x 48 columns]\n"
     ]
    }
   ],
   "source": [
    "#calculate the min, max and mean windspeeds and standard deviations of the windspeeds across all locations for each week for the first 52 weeks\n",
    "weekly_data = wind.loc['1961-01-02':'1962-01-02'].resample('W').agg(['min', 'max', 'mean', 'std'])\n",
    "\n",
    "weekly_data_first_52_weeks = weekly_data.iloc[:52]\n",
    "\n",
    "print(weekly_data_first_52_weeks)"
   ]
  },
  {
   "cell_type": "markdown",
   "id": "06448560",
   "metadata": {},
   "source": [
    "Question 5: Chipotle"
   ]
  },
  {
   "cell_type": "code",
   "execution_count": 1,
   "id": "492dcc6a",
   "metadata": {},
   "outputs": [],
   "source": [
    "#import necessary libraries\n",
    "import numpy as np\n",
    "import pandas as pd"
   ]
  },
  {
   "cell_type": "code",
   "execution_count": 3,
   "id": "ff831427",
   "metadata": {},
   "outputs": [
    {
     "data": {
      "text/html": [
       "<div>\n",
       "<style scoped>\n",
       "    .dataframe tbody tr th:only-of-type {\n",
       "        vertical-align: middle;\n",
       "    }\n",
       "\n",
       "    .dataframe tbody tr th {\n",
       "        vertical-align: top;\n",
       "    }\n",
       "\n",
       "    .dataframe thead th {\n",
       "        text-align: right;\n",
       "    }\n",
       "</style>\n",
       "<table border=\"1\" class=\"dataframe\">\n",
       "  <thead>\n",
       "    <tr style=\"text-align: right;\">\n",
       "      <th></th>\n",
       "      <th>order_id</th>\n",
       "      <th>quantity</th>\n",
       "      <th>item_name</th>\n",
       "      <th>choice_description</th>\n",
       "      <th>item_price</th>\n",
       "    </tr>\n",
       "  </thead>\n",
       "  <tbody>\n",
       "    <tr>\n",
       "      <th>0</th>\n",
       "      <td>1</td>\n",
       "      <td>1</td>\n",
       "      <td>Chips and Fresh Tomato Salsa</td>\n",
       "      <td>NaN</td>\n",
       "      <td>$2.39</td>\n",
       "    </tr>\n",
       "    <tr>\n",
       "      <th>1</th>\n",
       "      <td>1</td>\n",
       "      <td>1</td>\n",
       "      <td>Izze</td>\n",
       "      <td>[Clementine]</td>\n",
       "      <td>$3.39</td>\n",
       "    </tr>\n",
       "    <tr>\n",
       "      <th>2</th>\n",
       "      <td>1</td>\n",
       "      <td>1</td>\n",
       "      <td>Nantucket Nectar</td>\n",
       "      <td>[Apple]</td>\n",
       "      <td>$3.39</td>\n",
       "    </tr>\n",
       "    <tr>\n",
       "      <th>3</th>\n",
       "      <td>1</td>\n",
       "      <td>1</td>\n",
       "      <td>Chips and Tomatillo-Green Chili Salsa</td>\n",
       "      <td>NaN</td>\n",
       "      <td>$2.39</td>\n",
       "    </tr>\n",
       "    <tr>\n",
       "      <th>4</th>\n",
       "      <td>2</td>\n",
       "      <td>2</td>\n",
       "      <td>Chicken Bowl</td>\n",
       "      <td>[Tomatillo-Red Chili Salsa (Hot), [Black Beans...</td>\n",
       "      <td>$16.98</td>\n",
       "    </tr>\n",
       "    <tr>\n",
       "      <th>5</th>\n",
       "      <td>3</td>\n",
       "      <td>1</td>\n",
       "      <td>Chicken Bowl</td>\n",
       "      <td>[Fresh Tomato Salsa (Mild), [Rice, Cheese, Sou...</td>\n",
       "      <td>$10.98</td>\n",
       "    </tr>\n",
       "    <tr>\n",
       "      <th>6</th>\n",
       "      <td>3</td>\n",
       "      <td>1</td>\n",
       "      <td>Side of Chips</td>\n",
       "      <td>NaN</td>\n",
       "      <td>$1.69</td>\n",
       "    </tr>\n",
       "    <tr>\n",
       "      <th>7</th>\n",
       "      <td>4</td>\n",
       "      <td>1</td>\n",
       "      <td>Steak Burrito</td>\n",
       "      <td>[Tomatillo Red Chili Salsa, [Fajita Vegetables...</td>\n",
       "      <td>$11.75</td>\n",
       "    </tr>\n",
       "    <tr>\n",
       "      <th>8</th>\n",
       "      <td>4</td>\n",
       "      <td>1</td>\n",
       "      <td>Steak Soft Tacos</td>\n",
       "      <td>[Tomatillo Green Chili Salsa, [Pinto Beans, Ch...</td>\n",
       "      <td>$9.25</td>\n",
       "    </tr>\n",
       "    <tr>\n",
       "      <th>9</th>\n",
       "      <td>5</td>\n",
       "      <td>1</td>\n",
       "      <td>Steak Burrito</td>\n",
       "      <td>[Fresh Tomato Salsa, [Rice, Black Beans, Pinto...</td>\n",
       "      <td>$9.25</td>\n",
       "    </tr>\n",
       "  </tbody>\n",
       "</table>\n",
       "</div>"
      ],
      "text/plain": [
       "   order_id  quantity                              item_name  \\\n",
       "0         1         1           Chips and Fresh Tomato Salsa   \n",
       "1         1         1                                   Izze   \n",
       "2         1         1                       Nantucket Nectar   \n",
       "3         1         1  Chips and Tomatillo-Green Chili Salsa   \n",
       "4         2         2                           Chicken Bowl   \n",
       "5         3         1                           Chicken Bowl   \n",
       "6         3         1                          Side of Chips   \n",
       "7         4         1                          Steak Burrito   \n",
       "8         4         1                       Steak Soft Tacos   \n",
       "9         5         1                          Steak Burrito   \n",
       "\n",
       "                                  choice_description item_price  \n",
       "0                                                NaN     $2.39   \n",
       "1                                       [Clementine]     $3.39   \n",
       "2                                            [Apple]     $3.39   \n",
       "3                                                NaN     $2.39   \n",
       "4  [Tomatillo-Red Chili Salsa (Hot), [Black Beans...    $16.98   \n",
       "5  [Fresh Tomato Salsa (Mild), [Rice, Cheese, Sou...    $10.98   \n",
       "6                                                NaN     $1.69   \n",
       "7  [Tomatillo Red Chili Salsa, [Fajita Vegetables...    $11.75   \n",
       "8  [Tomatillo Green Chili Salsa, [Pinto Beans, Ch...     $9.25   \n",
       "9  [Fresh Tomato Salsa, [Rice, Black Beans, Pinto...     $9.25   "
      ]
     },
     "execution_count": 3,
     "metadata": {},
     "output_type": "execute_result"
    }
   ],
   "source": [
    "url = \"https://raw.githubusercontent.com/justmarkham/DAT8/master/data/chipotle.tsv\"\n",
    "\n",
    "#read the data into a DataFrame\n",
    "chipo = pd.read_csv(url, sep='\\t')\n",
    "\n",
    "#display the first ten entries\n",
    "chipo.head(10)"
   ]
  },
  {
   "cell_type": "code",
   "execution_count": 5,
   "id": "c6d8bbba",
   "metadata": {},
   "outputs": [
    {
     "name": "stdout",
     "output_type": "stream",
     "text": [
      "Number of observations in the dataset: 4622\n"
     ]
    }
   ],
   "source": [
    "#find the number of observations in the dataset\n",
    "num_observations = chipo.shape[0]\n",
    "\n",
    "print(\"Number of observations in the dataset:\", num_observations)"
   ]
  },
  {
   "cell_type": "code",
   "execution_count": 6,
   "id": "1438947e",
   "metadata": {},
   "outputs": [
    {
     "name": "stdout",
     "output_type": "stream",
     "text": [
      "Number of columns in the dataset: 5\n"
     ]
    }
   ],
   "source": [
    "#find the number of columns in the dataset\n",
    "num_columns = chipo.shape[1]\n",
    "\n",
    "print(\"Number of columns in the dataset:\", num_columns)"
   ]
  },
  {
   "cell_type": "code",
   "execution_count": 8,
   "id": "acbcb9ea",
   "metadata": {},
   "outputs": [
    {
     "name": "stdout",
     "output_type": "stream",
     "text": [
      "Names of the columns:\n",
      "order_id\n",
      "quantity\n",
      "item_name\n",
      "choice_description\n",
      "item_price\n"
     ]
    }
   ],
   "source": [
    "#print the names of the columns\n",
    "name_columns = chipo.columns\n",
    "\n",
    "print(\"Names of the columns:\")\n",
    "for name_columns in name_columns:\n",
    "    print(name_columns)"
   ]
  },
  {
   "cell_type": "code",
   "execution_count": 9,
   "id": "5ff6ec55",
   "metadata": {},
   "outputs": [
    {
     "name": "stdout",
     "output_type": "stream",
     "text": [
      "Index information of the dataset:\n",
      "RangeIndex(start=0, stop=4622, step=1)\n"
     ]
    }
   ],
   "source": [
    "#find indexing inforamtion\n",
    "index_info = chipo.index\n",
    "\n",
    "print(\"Index information of the dataset:\")\n",
    "print(index_info)"
   ]
  },
  {
   "cell_type": "code",
   "execution_count": 10,
   "id": "a8a296b5",
   "metadata": {},
   "outputs": [
    {
     "name": "stdout",
     "output_type": "stream",
     "text": [
      "The most-ordered item is: Chicken Bowl\n"
     ]
    }
   ],
   "source": [
    "#find the most ordered item\n",
    "most_ordered_item = chipo.groupby('item_name')['quantity'].sum()\n",
    "\n",
    "most_ordered_item = most_ordered_item.idxmax()\n",
    "\n",
    "print(\"The most-ordered item is:\", most_ordered_item)"
   ]
  },
  {
   "cell_type": "code",
   "execution_count": 11,
   "id": "849e4b78",
   "metadata": {},
   "outputs": [
    {
     "name": "stdout",
     "output_type": "stream",
     "text": [
      "Number of Chicken Bowl ordered: 761\n"
     ]
    }
   ],
   "source": [
    "#find the number of most ordered item ordered\n",
    "item_quantities = chipo.groupby('item_name')['quantity'].sum()\n",
    "\n",
    "quantity_most_ordered_item = item_quantities[most_ordered_item]\n",
    "\n",
    "print(\"Number of\", most_ordered_item, \"ordered:\", quantity_most_ordered_item)"
   ]
  },
  {
   "cell_type": "code",
   "execution_count": 12,
   "id": "f0caf41d",
   "metadata": {},
   "outputs": [
    {
     "name": "stdout",
     "output_type": "stream",
     "text": [
      "The most-ordered item in the choice_description column is: [Diet Coke]\n"
     ]
    }
   ],
   "source": [
    "#find the most ordered items in the choice_description column\n",
    "most_ordered_choice = chipo.groupby('choice_description')['quantity'].sum()\n",
    "\n",
    "most_ordered_choice = most_ordered_choice.idxmax()\n",
    "\n",
    "print(\"The most-ordered item in the choice_description column is:\", most_ordered_choice)"
   ]
  },
  {
   "cell_type": "code",
   "execution_count": 13,
   "id": "b6bd0def",
   "metadata": {},
   "outputs": [
    {
     "name": "stdout",
     "output_type": "stream",
     "text": [
      "Total number of items ordered: 4972\n"
     ]
    }
   ],
   "source": [
    "#find how many items were ordered in total\n",
    "total_items_ordered = chipo['quantity'].sum()\n",
    "\n",
    "print(\"Total number of items ordered:\", total_items_ordered)"
   ]
  },
  {
   "cell_type": "code",
   "execution_count": 14,
   "id": "b95451c0",
   "metadata": {},
   "outputs": [
    {
     "name": "stdout",
     "output_type": "stream",
     "text": [
      "Type of item price: float64\n"
     ]
    }
   ],
   "source": [
    "#turn the item price into a float and check the price type\n",
    "chipo['item_price'] = chipo['item_price'].str.replace('$', '').astype(float)\n",
    "\n",
    "print(\"Type of item price:\", chipo['item_price'].dtype)"
   ]
  },
  {
   "cell_type": "code",
   "execution_count": 15,
   "id": "3cf87a50",
   "metadata": {},
   "outputs": [
    {
     "name": "stdout",
     "output_type": "stream",
     "text": [
      "Type of item price: object\n"
     ]
    }
   ],
   "source": [
    "#create a lambda function and change the type of item price\n",
    "convert_to_string = lambda x: str(x)\n",
    "\n",
    "chipo['item_price'] = chipo['item_price'].apply(convert_to_string)\n",
    "\n",
    "print(\"Type of item price:\", chipo['item_price'].dtype)"
   ]
  },
  {
   "cell_type": "code",
   "execution_count": 16,
   "id": "08a6d8e4",
   "metadata": {},
   "outputs": [
    {
     "name": "stdout",
     "output_type": "stream",
     "text": [
      "Type of item price: float64\n"
     ]
    }
   ],
   "source": [
    "#turn the item price back into a float and check the price type (in case it is needed later)\n",
    "chipo['item_price'] = chipo['item_price'].str.replace('$', '').astype(float)\n",
    "\n",
    "print(\"Type of item price:\", chipo['item_price'].dtype)"
   ]
  },
  {
   "cell_type": "code",
   "execution_count": 17,
   "id": "b6631645",
   "metadata": {},
   "outputs": [
    {
     "name": "stdout",
     "output_type": "stream",
     "text": [
      "Total revenue: 39237.02\n"
     ]
    }
   ],
   "source": [
    "#find the revenue for the period in the dataset\n",
    "chipo['revenue'] = chipo['quantity'] * chipo['item_price']\n",
    "\n",
    "total_revenue = chipo['revenue'].sum()\n",
    "\n",
    "print(\"Total revenue:\", total_revenue)"
   ]
  },
  {
   "cell_type": "code",
   "execution_count": 21,
   "id": "63d1c9d5",
   "metadata": {},
   "outputs": [
    {
     "name": "stdout",
     "output_type": "stream",
     "text": [
      "Number of orders made in the period: 1834\n"
     ]
    }
   ],
   "source": [
    "#find the total number of orders\n",
    "num_orders = chipo['order_id'].nunique()\n",
    "\n",
    "print(\"Number of orders made in the period:\", num_orders)"
   ]
  },
  {
   "cell_type": "code",
   "execution_count": 22,
   "id": "ed22663e",
   "metadata": {},
   "outputs": [
    {
     "name": "stdout",
     "output_type": "stream",
     "text": [
      "Average revenue amount per order: 21.39423118865867\n"
     ]
    }
   ],
   "source": [
    "#find the average revenue per order\n",
    "total_revenue = chipo['revenue'].sum()\n",
    "\n",
    "num_orders = chipo['order_id'].nunique()\n",
    "\n",
    "average_revenue_per_order = total_revenue / num_orders\n",
    "\n",
    "print(\"Average revenue amount per order:\", average_revenue_per_order)"
   ]
  },
  {
   "cell_type": "code",
   "execution_count": 23,
   "id": "d17c2888",
   "metadata": {},
   "outputs": [
    {
     "name": "stdout",
     "output_type": "stream",
     "text": [
      "Number of different items sold: 50\n"
     ]
    }
   ],
   "source": [
    "#find how mnay items were sold\n",
    "unique_items = chipo['item_name'].nunique()\n",
    "\n",
    "print(\"Number of different items sold:\", unique_items)"
   ]
  },
  {
   "cell_type": "markdown",
   "id": "cf9e1a0b",
   "metadata": {},
   "source": [
    "Question 6: Marriages and Divorces Line Graph"
   ]
  },
  {
   "cell_type": "code",
   "execution_count": 27,
   "id": "71b19c31",
   "metadata": {},
   "outputs": [
    {
     "data": {
      "text/html": [
       "<div>\n",
       "<style scoped>\n",
       "    .dataframe tbody tr th:only-of-type {\n",
       "        vertical-align: middle;\n",
       "    }\n",
       "\n",
       "    .dataframe tbody tr th {\n",
       "        vertical-align: top;\n",
       "    }\n",
       "\n",
       "    .dataframe thead th {\n",
       "        text-align: right;\n",
       "    }\n",
       "</style>\n",
       "<table border=\"1\" class=\"dataframe\">\n",
       "  <thead>\n",
       "    <tr style=\"text-align: right;\">\n",
       "      <th></th>\n",
       "      <th>Year</th>\n",
       "      <th>Marriages</th>\n",
       "      <th>Divorces</th>\n",
       "      <th>Population</th>\n",
       "      <th>Marriages_per_1000</th>\n",
       "      <th>Divorces_per_1000</th>\n",
       "    </tr>\n",
       "  </thead>\n",
       "  <tbody>\n",
       "    <tr>\n",
       "      <th>0</th>\n",
       "      <td>1867</td>\n",
       "      <td>357000.0</td>\n",
       "      <td>10000.0</td>\n",
       "      <td>36970000</td>\n",
       "      <td>9.7</td>\n",
       "      <td>0.3</td>\n",
       "    </tr>\n",
       "    <tr>\n",
       "      <th>1</th>\n",
       "      <td>1868</td>\n",
       "      <td>345000.0</td>\n",
       "      <td>10000.0</td>\n",
       "      <td>37885000</td>\n",
       "      <td>9.1</td>\n",
       "      <td>0.3</td>\n",
       "    </tr>\n",
       "    <tr>\n",
       "      <th>2</th>\n",
       "      <td>1869</td>\n",
       "      <td>348000.0</td>\n",
       "      <td>11000.0</td>\n",
       "      <td>38870000</td>\n",
       "      <td>9.0</td>\n",
       "      <td>0.3</td>\n",
       "    </tr>\n",
       "    <tr>\n",
       "      <th>3</th>\n",
       "      <td>1870</td>\n",
       "      <td>352000.0</td>\n",
       "      <td>11000.0</td>\n",
       "      <td>39905000</td>\n",
       "      <td>8.8</td>\n",
       "      <td>0.3</td>\n",
       "    </tr>\n",
       "    <tr>\n",
       "      <th>4</th>\n",
       "      <td>1871</td>\n",
       "      <td>359000.0</td>\n",
       "      <td>12000.0</td>\n",
       "      <td>41010000</td>\n",
       "      <td>8.8</td>\n",
       "      <td>0.3</td>\n",
       "    </tr>\n",
       "  </tbody>\n",
       "</table>\n",
       "</div>"
      ],
      "text/plain": [
       "   Year  Marriages  Divorces  Population  Marriages_per_1000  \\\n",
       "0  1867   357000.0   10000.0    36970000                 9.7   \n",
       "1  1868   345000.0   10000.0    37885000                 9.1   \n",
       "2  1869   348000.0   11000.0    38870000                 9.0   \n",
       "3  1870   352000.0   11000.0    39905000                 8.8   \n",
       "4  1871   359000.0   12000.0    41010000                 8.8   \n",
       "\n",
       "   Divorces_per_1000  \n",
       "0                0.3  \n",
       "1                0.3  \n",
       "2                0.3  \n",
       "3                0.3  \n",
       "4                0.3  "
      ]
     },
     "execution_count": 27,
     "metadata": {},
     "output_type": "execute_result"
    }
   ],
   "source": [
    "#import libraries and read data\n",
    "import pandas as pd\n",
    "import matplotlib.pyplot as plt\n",
    "us = pd.read_csv(r\"C:\\Users\\alatt\\OneDrive\\Documents\\BDAT\\BDAT1004 - Data Programming\\PS3 Data\\us-marriages-divorces-1867-2014.csv\")\n",
    "us.head()"
   ]
  },
  {
   "cell_type": "code",
   "execution_count": 29,
   "id": "967247fa",
   "metadata": {},
   "outputs": [
    {
     "data": {
      "image/png": "[encoded data removed]",
      "text/plain": [
       "<Figure size 1000x600 with 1 Axes>"
      ]
     },
     "metadata": {},
     "output_type": "display_data"
    }
   ],
   "source": [
    "#create a line plot showing marriages and divorces percapita\n",
    "\n",
    "plt.figure(figsize=(10, 6))\n",
    "plt.plot(us['Year'], us['Marriages_per_1000'], label='Marriages per 1000', color='blue')\n",
    "plt.plot(us['Year'], us['Divorces_per_1000'], label='Divorces per 1000', color='red')\n",
    "\n",
    "plt.xlabel('Year')\n",
    "plt.ylabel('Rate per 1000 people')\n",
    "plt.title('Marriage and Divorce Rates per 1000 People in the U.S. (1867-2014)')\n",
    "plt.legend()\n",
    "\n",
    "plt.grid(True)\n",
    "plt.tight_layout()\n",
    "plt.show()"
   ]
  },
  {
   "cell_type": "markdown",
   "id": "f8ee08d9",
   "metadata": {},
   "source": [
    "Question 7: Comparing Years"
   ]
  },
  {
   "cell_type": "code",
   "execution_count": 31,
   "id": "0954b1fb",
   "metadata": {},
   "outputs": [
    {
     "data": {
      "image/png": "[encoded data removed]",
      "text/plain": [
       "<Figure size 1000x600 with 1 Axes>"
      ]
     },
     "metadata": {},
     "output_type": "display_data"
    }
   ],
   "source": [
    "#create a vertical bar chart comparing marriages and divorces per capita in 1900, 1950 and 2000\n",
    "years = [1900, 1950, 2000]\n",
    "filtered_data = us[us['Year'].isin(years)]\n",
    "\n",
    "plt.figure(figsize=(10, 6))\n",
    "plt.bar(filtered_data['Year'], filtered_data['Marriages_per_1000'], label='Marriages per capita', color='blue', alpha=0.5)\n",
    "plt.bar(filtered_data['Year'], filtered_data['Divorces_per_1000'], label='Divorces per capita', color='red', alpha=0.5)\n",
    "\n",
    "plt.xlabel('Year')\n",
    "plt.ylabel('Per Capita Count')\n",
    "plt.title('Number of Marriages and Divorces per Capita in the U.S. (1900, 1950, 2000)')\n",
    "plt.legend()\n",
    "\n",
    "plt.grid(True)\n",
    "plt.tight_layout()\n",
    "plt.show()"
   ]
  },
  {
   "cell_type": "markdown",
   "id": "68a74894",
   "metadata": {},
   "source": [
    "Question 8: Deadliest Hollywood actors"
   ]
  },
  {
   "cell_type": "code",
   "execution_count": 32,
   "id": "e5f39e86",
   "metadata": {},
   "outputs": [
    {
     "data": {
      "text/html": [
       "<div>\n",
       "<style scoped>\n",
       "    .dataframe tbody tr th:only-of-type {\n",
       "        vertical-align: middle;\n",
       "    }\n",
       "\n",
       "    .dataframe tbody tr th {\n",
       "        vertical-align: top;\n",
       "    }\n",
       "\n",
       "    .dataframe thead th {\n",
       "        text-align: right;\n",
       "    }\n",
       "</style>\n",
       "<table border=\"1\" class=\"dataframe\">\n",
       "  <thead>\n",
       "    <tr style=\"text-align: right;\">\n",
       "      <th></th>\n",
       "      <th>Actor</th>\n",
       "      <th>Count</th>\n",
       "    </tr>\n",
       "  </thead>\n",
       "  <tbody>\n",
       "    <tr>\n",
       "      <th>0</th>\n",
       "      <td>Arnold Schwarzenegger</td>\n",
       "      <td>369</td>\n",
       "    </tr>\n",
       "    <tr>\n",
       "      <th>1</th>\n",
       "      <td>Chow Yun-Fat</td>\n",
       "      <td>295</td>\n",
       "    </tr>\n",
       "    <tr>\n",
       "      <th>2</th>\n",
       "      <td>Clint Eastwood</td>\n",
       "      <td>207</td>\n",
       "    </tr>\n",
       "    <tr>\n",
       "      <th>3</th>\n",
       "      <td>Clive Owen</td>\n",
       "      <td>194</td>\n",
       "    </tr>\n",
       "    <tr>\n",
       "      <th>4</th>\n",
       "      <td>Dolph Lundgren</td>\n",
       "      <td>239</td>\n",
       "    </tr>\n",
       "  </tbody>\n",
       "</table>\n",
       "</div>"
      ],
      "text/plain": [
       "                   Actor  Count\n",
       "0  Arnold Schwarzenegger    369\n",
       "1           Chow Yun-Fat    295\n",
       "2         Clint Eastwood    207\n",
       "3             Clive Owen    194\n",
       "4         Dolph Lundgren    239"
      ]
     },
     "execution_count": 32,
     "metadata": {},
     "output_type": "execute_result"
    }
   ],
   "source": [
    "#import libraries and read data\n",
    "import pandas as pd\n",
    "import matplotlib.pyplot as plt\n",
    "hollywood = pd.read_csv(r\"C:\\Users\\alatt\\OneDrive\\Documents\\BDAT\\BDAT1004 - Data Programming\\PS3 Data\\actor_kill_counts.csv\")\n",
    "hollywood.head()"
   ]
  },
  {
   "cell_type": "code",
   "execution_count": 34,
   "id": "59c15058",
   "metadata": {},
   "outputs": [
    {
     "data": {
      "image/png": "[encoded data removed]",
      "text/plain": [
       "<Figure size 1000x600 with 1 Axes>"
      ]
     },
     "metadata": {},
     "output_type": "display_data"
    }
   ],
   "source": [
    "#create a horizontal bar chart comparing deadliest actors in hollywood\n",
    "hollywood_sorted = hollywood.sort_values(by='Count', ascending=True)\n",
    "\n",
    "plt.figure(figsize=(10, 6))\n",
    "plt.barh(hollywood_sorted['Actor'], hollywood_sorted['Count'], color='skyblue')\n",
    "\n",
    "for index, value in enumerate(hollywood_sorted['Count']):\n",
    "    plt.text(value, index, str(value))\n",
    "\n",
    "plt.xlabel('Kill Count')\n",
    "plt.ylabel('Actor')\n",
    "plt.title('Deadliest Actors in Hollywood')\n",
    "\n",
    "plt.grid(True)\n",
    "plt.tight_layout()\n",
    "plt.show()"
   ]
  },
  {
   "cell_type": "markdown",
   "id": "7bf2e730",
   "metadata": {},
   "source": [
    "Question 9: Roam Emperor Assassinations"
   ]
  },
  {
   "cell_type": "code",
   "execution_count": 35,
   "id": "3c09ad05",
   "metadata": {},
   "outputs": [
    {
     "data": {
      "text/html": [
       "<div>\n",
       "<style scoped>\n",
       "    .dataframe tbody tr th:only-of-type {\n",
       "        vertical-align: middle;\n",
       "    }\n",
       "\n",
       "    .dataframe tbody tr th {\n",
       "        vertical-align: top;\n",
       "    }\n",
       "\n",
       "    .dataframe thead th {\n",
       "        text-align: right;\n",
       "    }\n",
       "</style>\n",
       "<table border=\"1\" class=\"dataframe\">\n",
       "  <thead>\n",
       "    <tr style=\"text-align: right;\">\n",
       "      <th></th>\n",
       "      <th>Emperor</th>\n",
       "      <th>Length_of_Reign</th>\n",
       "      <th>Cause_of_Death</th>\n",
       "    </tr>\n",
       "  </thead>\n",
       "  <tbody>\n",
       "    <tr>\n",
       "      <th>0</th>\n",
       "      <td>Augustus</td>\n",
       "      <td>40.58</td>\n",
       "      <td>Possibly assassinated</td>\n",
       "    </tr>\n",
       "    <tr>\n",
       "      <th>1</th>\n",
       "      <td>Tiberius</td>\n",
       "      <td>22.50</td>\n",
       "      <td>Possibly assassinated</td>\n",
       "    </tr>\n",
       "    <tr>\n",
       "      <th>2</th>\n",
       "      <td>Caligula</td>\n",
       "      <td>4.83</td>\n",
       "      <td>Assassinated</td>\n",
       "    </tr>\n",
       "    <tr>\n",
       "      <th>3</th>\n",
       "      <td>Claudius</td>\n",
       "      <td>13.75</td>\n",
       "      <td>Possibly assassinated</td>\n",
       "    </tr>\n",
       "    <tr>\n",
       "      <th>4</th>\n",
       "      <td>Nero</td>\n",
       "      <td>13.67</td>\n",
       "      <td>Suicide</td>\n",
       "    </tr>\n",
       "  </tbody>\n",
       "</table>\n",
       "</div>"
      ],
      "text/plain": [
       "    Emperor  Length_of_Reign         Cause_of_Death\n",
       "0  Augustus            40.58  Possibly assassinated\n",
       "1  Tiberius            22.50  Possibly assassinated\n",
       "2  Caligula             4.83           Assassinated\n",
       "3  Claudius            13.75  Possibly assassinated\n",
       "4      Nero            13.67                Suicide"
      ]
     },
     "execution_count": 35,
     "metadata": {},
     "output_type": "execute_result"
    }
   ],
   "source": [
    "#import libraries and read data\n",
    "import pandas as pd\n",
    "import matplotlib.pyplot as plt\n",
    "roman = pd.read_csv(r\"C:\\Users\\alatt\\OneDrive\\Documents\\BDAT\\BDAT1004 - Data Programming\\PS3 Data\\roman-emperor-reigns.csv\")\n",
    "roman.head()"
   ]
  },
  {
   "cell_type": "code",
   "execution_count": 38,
   "id": "2c9a0ea3",
   "metadata": {},
   "outputs": [
    {
     "data": {
      "image/png": "[encoded data removed]",
      "text/plain": [
       "<Figure size 800x800 with 1 Axes>"
      ]
     },
     "metadata": {},
     "output_type": "display_data"
    }
   ],
   "source": [
    "#create a pie chart that shows the fraction of emperors that were assassinated\n",
    "total_emperors = len(roman)\n",
    "\n",
    "assassinated_emperors = (roman['Cause_of_Death'] == 'Assassinated').sum()\n",
    "\n",
    "percentage_assassinated = (assassinated_emperors / total_emperors) * 100\n",
    "\n",
    "percentage_not_assassinated = 100 - percentage_assassinated\n",
    "\n",
    "labels = ['Assassinated', 'Not Assassinated']\n",
    "\n",
    "sizes = [percentage_assassinated, percentage_not_assassinated]\n",
    "\n",
    "plt.figure(figsize=(8, 8))\n",
    "plt.pie(sizes, labels=labels, autopct='%1.1f%%', startangle=140)\n",
    "\n",
    "plt.axis('equal')\n",
    "\n",
    "plt.title('Fraction of Roman Emperors Assassinated')\n",
    "\n",
    "plt.show()"
   ]
  },
  {
   "cell_type": "markdown",
   "id": "c98d893d",
   "metadata": {},
   "source": [
    "Question 10: Computer Science PhD Revenue"
   ]
  },
  {
   "cell_type": "code",
   "execution_count": 39,
   "id": "a5f2c45e",
   "metadata": {},
   "outputs": [
    {
     "data": {
      "text/html": [
       "<div>\n",
       "<style scoped>\n",
       "    .dataframe tbody tr th:only-of-type {\n",
       "        vertical-align: middle;\n",
       "    }\n",
       "\n",
       "    .dataframe tbody tr th {\n",
       "        vertical-align: top;\n",
       "    }\n",
       "\n",
       "    .dataframe thead th {\n",
       "        text-align: right;\n",
       "    }\n",
       "</style>\n",
       "<table border=\"1\" class=\"dataframe\">\n",
       "  <thead>\n",
       "    <tr style=\"text-align: right;\">\n",
       "      <th></th>\n",
       "      <th>Year</th>\n",
       "      <th>Total Arcade Revenue (billions)</th>\n",
       "      <th>Computer Science Doctorates Awarded (US)</th>\n",
       "    </tr>\n",
       "  </thead>\n",
       "  <tbody>\n",
       "    <tr>\n",
       "      <th>0</th>\n",
       "      <td>2000</td>\n",
       "      <td>1.196</td>\n",
       "      <td>861</td>\n",
       "    </tr>\n",
       "    <tr>\n",
       "      <th>1</th>\n",
       "      <td>2001</td>\n",
       "      <td>1.176</td>\n",
       "      <td>830</td>\n",
       "    </tr>\n",
       "    <tr>\n",
       "      <th>2</th>\n",
       "      <td>2002</td>\n",
       "      <td>1.269</td>\n",
       "      <td>809</td>\n",
       "    </tr>\n",
       "    <tr>\n",
       "      <th>3</th>\n",
       "      <td>2003</td>\n",
       "      <td>1.240</td>\n",
       "      <td>867</td>\n",
       "    </tr>\n",
       "    <tr>\n",
       "      <th>4</th>\n",
       "      <td>2004</td>\n",
       "      <td>1.307</td>\n",
       "      <td>948</td>\n",
       "    </tr>\n",
       "  </tbody>\n",
       "</table>\n",
       "</div>"
      ],
      "text/plain": [
       "   Year  Total Arcade Revenue (billions)  \\\n",
       "0  2000                            1.196   \n",
       "1  2001                            1.176   \n",
       "2  2002                            1.269   \n",
       "3  2003                            1.240   \n",
       "4  2004                            1.307   \n",
       "\n",
       "   Computer Science Doctorates Awarded (US)  \n",
       "0                                       861  \n",
       "1                                       830  \n",
       "2                                       809  \n",
       "3                                       867  \n",
       "4                                       948  "
      ]
     },
     "execution_count": 39,
     "metadata": {},
     "output_type": "execute_result"
    }
   ],
   "source": [
    "#import libraries and read data\n",
    "import pandas as pd\n",
    "import matplotlib.pyplot as plt\n",
    "phdrevenue = pd.read_csv(r\"C:\\Users\\alatt\\OneDrive\\Documents\\BDAT\\BDAT1004 - Data Programming\\PS3 Data\\arcade-revenue-vs-cs-doctorates.csv\")\n",
    "phdrevenue.head()"
   ]
  },
  {
   "cell_type": "code",
   "execution_count": 40,
   "id": "54c752eb",
   "metadata": {},
   "outputs": [
    {
     "data": {
      "image/png": "[encoded data removed]",
      "text/plain": [
       "<Figure size 1000x600 with 1 Axes>"
      ]
     },
     "metadata": {},
     "output_type": "display_data"
    }
   ],
   "source": [
    "#create a scatterplot showing relationship between arcade revenue and PhDs awarded\n",
    "phdrevenue_filtered = phdrevenue[(phdrevenue['Year'] >= 2000) & (phdrevenue['Year'] <= 2009)]\n",
    "\n",
    "plt.figure(figsize=(10, 6))\n",
    "plt.scatter(phdrevenue_filtered['Total Arcade Revenue (billions)'], \n",
    "            phdrevenue_filtered['Computer Science Doctorates Awarded (US)'], \n",
    "            color='blue', alpha=0.7)\n",
    "\n",
    "plt.xlabel('Total Arcade Revenue (billions)')\n",
    "plt.ylabel('Computer Science Doctorates Awarded (US)')\n",
    "plt.title('Relationship between Arcade Revenue and Computer Science Doctorates (2000-2009)')\n",
    "\n",
    "plt.grid(True)\n",
    "plt.tight_layout()\n",
    "plt.show()"
   ]
  },
  {
   "cell_type": "code",
   "execution_count": 42,
   "id": "304b3f1e",
   "metadata": {},
   "outputs": [
    {
     "data": {
      "image/png": "[encoded data removed]",
      "text/plain": [
       "<Figure size 1000x600 with 1 Axes>"
      ]
     },
     "metadata": {},
     "output_type": "display_data"
    }
   ],
   "source": [
    "#just for interest sake, a little regression :)\n",
    "import numpy as np\n",
    "from sklearn.linear_model import LinearRegression\n",
    "\n",
    "phdrevenue_filtered = phdrevenue[(phdrevenue['Year'] >= 2000) & (phdrevenue['Year'] <= 2009)]\n",
    "\n",
    "x = phdrevenue_filtered['Total Arcade Revenue (billions)'].values.reshape(-1, 1)\n",
    "y = phdrevenue_filtered['Computer Science Doctorates Awarded (US)'].values\n",
    "\n",
    "model = LinearRegression()\n",
    "model.fit(x, y)\n",
    "\n",
    "m = model.coef_[0]\n",
    "b = model.intercept_\n",
    "\n",
    "plt.figure(figsize=(10, 6))\n",
    "plt.scatter(x, y, color='blue', alpha=0.7)\n",
    "\n",
    "plt.plot(x, m * x + b, color='red', label='Regression Line')\n",
    "\n",
    "equation = f'y = {m:.2f}x + {b:.2f}'\n",
    "plt.text(0.1, 0.9, equation, fontsize=12, transform=plt.gca().transAxes)\n",
    "\n",
    "plt.xlabel('Total Arcade Revenue (billions)')\n",
    "plt.ylabel('Computer Science Doctorates Awarded (US)')\n",
    "plt.title('Relationship between Arcade Revenue and Computer Science Doctorates (2000-2009)')\n",
    "\n",
    "plt.legend()\n",
    "\n",
    "plt.grid(True)\n",
    "plt.tight_layout()\n",
    "plt.show()"
   ]
  },
  {
   "cell_type": "code",
   "execution_count": null,
   "id": "a3b1814e",
   "metadata": {},
   "outputs": [],
   "source": []
  }
 ],
 "metadata": {
  "kernelspec": {
   "display_name": "Python 3 (ipykernel)",
   "language": "python",
   "name": "python3"
  },
  "language_info": {
   "codemirror_mode": {
    "name": "ipython",
    "version": 3
   },
   "file_extension": ".py",
   "mimetype": "text/x-python",
   "name": "python",
   "nbconvert_exporter": "python",
   "pygments_lexer": "ipython3",
   "version": "3.11.5"
  }
 },
 "nbformat": 4,
 "nbformat_minor": 5
}
